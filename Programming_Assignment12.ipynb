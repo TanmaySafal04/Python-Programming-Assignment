{
 "cells": [
  {
   "cell_type": "markdown",
   "id": "2860f1f2",
   "metadata": {},
   "source": [
    "# Questions\n",
    "1. Write a Python program to Extract Unique values dictionary values?\n",
    "2. Write a Python program to find the sum of all items in a dictionary?\n",
    "3. Write a Python program to Merging two Dictionaries?\n",
    "4. Write a Python program to convert key-values list to flat dictionary?\n",
    "5. Write a Python program to insertion at the beginning in OrderedDict?\n",
    "6. Write a Python program to check order of character in string using OrderedDict()?\n",
    "7. Write a Python program to sort Python Dictionaries by Key or Value?\n"
   ]
  },
  {
   "cell_type": "code",
   "execution_count": 6,
   "id": "d4221199",
   "metadata": {},
   "outputs": [
    {
     "name": "stdout",
     "output_type": "stream",
     "text": [
      "Enter the size of dictionary:6\n",
      "Enter the key: name\n",
      "Enter the corresponding value: tanmay\n",
      "Enter the key: title\n",
      "Enter the corresponding value: safal\n",
      "Enter the key: roll no\n",
      "Enter the corresponding value: 44\n",
      "Enter the key: salary\n",
      "Enter the corresponding value: 40k\n",
      "Enter the key: salary1\n",
      "Enter the corresponding value: 40k\n",
      "Enter the key: job\n",
      "Enter the corresponding value: consultant\n",
      "The dictionary is {'name': 'tanmay', 'title': 'safal', 'roll no': '44', 'salary': '40k', 'salary1': '40k', 'job': 'consultant'} \n",
      "Unique values in dictionary are: \n",
      "tanmay\n",
      "safal\n",
      "44\n",
      "consultant\n"
     ]
    }
   ],
   "source": [
    "#1 Write a Python program to Extract Unique values dictionary values?\n",
    "\n",
    "a=int(input(\"Enter the size of dictionary:\"))\n",
    "dt={}\n",
    "for i in range(a):\n",
    "    key=input(\"Enter the key: \")\n",
    "    value=input(\"Enter the corresponding value: \")\n",
    "    dt[key]=value\n",
    "print(f\"The dictionary is {dt} \")    \n",
    "print(\"Unique values in dictionary are: \")\n",
    "    \n",
    "for i in dt:\n",
    "    c=0\n",
    "    for j in dt:\n",
    "        if dt[i]==dt[j]:\n",
    "            c=c+1\n",
    "        else:\n",
    "            pass\n",
    "    if c>1:\n",
    "        continue\n",
    "    else:\n",
    "        print(dt[i])\n",
    "        "
   ]
  },
  {
   "cell_type": "code",
   "execution_count": 11,
   "id": "2f382521",
   "metadata": {},
   "outputs": [
    {
     "name": "stdout",
     "output_type": "stream",
     "text": [
      "Enter the size of dictionary:4\n",
      "Enter key: 1st no\n",
      "Enter numerical value:29.6\n",
      "Enter key: 2nd no\n",
      "Enter numerical value:44.67\n",
      "Enter key: 3rd no\n",
      "Enter numerical value:32\n",
      "Enter key: 4th no\n",
      "Enter numerical value:99.17\n",
      "Sum of all items in the dictionary is:  205.44\n"
     ]
    }
   ],
   "source": [
    "#2 Write a Python program to find the sum of all items in a dictionary?\n",
    "\n",
    "a=int(input(\"Enter the size of dictionary:\"))\n",
    "dt={}\n",
    "s=0\n",
    "for i in range(a):\n",
    "    key=input(\"Enter key: \")\n",
    "    value=float(input(\"Enter numerical value:\"))\n",
    "    dt[key]=value\n",
    "    s=s+dt[key]\n",
    "    \n",
    "print(\"Sum of all items in the dictionary is: \", s)"
   ]
  },
  {
   "cell_type": "code",
   "execution_count": 24,
   "id": "a9598fd1",
   "metadata": {},
   "outputs": [
    {
     "name": "stdout",
     "output_type": "stream",
     "text": [
      "New Dictionary after merging {'1st no': 29.6, '2nd no': 44.67, '3rd no': 32.0, '4th no': 99.17} \n",
      "            AND \n",
      " {'key1': 33, 'key2': 45, 'key3': 'Tanmay'} \n",
      " is: {'1st no': 29.6, '2nd no': 44.67, '3rd no': 32.0, '4th no': 99.17, 'key1': 33, 'key2': 45, 'key3': 'Tanmay'}\n"
     ]
    }
   ],
   "source": [
    "#3 Write a Python program to Merging two Dictionaries?\n",
    "\n",
    "dt1={'key1':33,'key2':45,'key3':'Tanmay'}\n",
    "merge_dict={**dt,**dt1}\n",
    "print(f\"New Dictionary after merging {dt} \\n            AND \\n {dt1} \\n is: {merge_dict}\")"
   ]
  },
  {
   "cell_type": "code",
   "execution_count": 26,
   "id": "d021cdf9",
   "metadata": {},
   "outputs": [
    {
     "name": "stdout",
     "output_type": "stream",
     "text": [
      "Original dictionary: {'a': 22, 'b': {'c': 34}, 'd': {'e': {'f': 56}}} \n",
      "Flat dictionary: {'a': 22, 'b.c': 34, 'd.e.f': 56}\n"
     ]
    }
   ],
   "source": [
    "#4 Write a Python program to convert key-values list to flat dictionary?\n",
    "\n",
    "import pandas as pd\n",
    "dictionary={'a':22,'b':{'c':34},'d':{'e':{'f':56}}}\n",
    "dict1=pd.json_normalize(dictionary,sep='.')\n",
    "flat=dict1.to_dict(orient='records')[0]\n",
    "print(f\"Original dictionary: {dictionary} \")\n",
    "print(f\"Flat dictionary: {flat}\")\n"
   ]
  },
  {
   "cell_type": "code",
   "execution_count": 32,
   "id": "44faac67",
   "metadata": {},
   "outputs": [
    {
     "name": "stdout",
     "output_type": "stream",
     "text": [
      "Enter the size of dictionary:3\n",
      "Enter the key: Last name\n",
      "Enter the corresponding value: safal\n",
      "Enter the key: ph no.\n",
      "Enter the corresponding value: 4567890\n",
      "Enter the key: salary\n",
      "Enter the corresponding value: 44k\n",
      "Original Dictionary: {'Last name': 'safal', 'ph no.': '4567890', 'salary': '44k'}\n",
      "New Dictionary: OrderedDict([('Name', 'Tanmay'), ('Last name', 'safal'), ('ph no.', '4567890'), ('salary', '44k')])\n"
     ]
    }
   ],
   "source": [
    "#5 Write a Python program to insertion at the beginning in OrderedDict?\n",
    "\n",
    "from collections import OrderedDict\n",
    "a=int(input(\"Enter the size of dictionary:\"))\n",
    "dt3={}\n",
    "for i in range(a):\n",
    "    key=input(\"Enter the key: \")\n",
    "    value=input(\"Enter the corresponding value: \")\n",
    "    dt3[key]=value\n",
    "    \n",
    "\n",
    "\n",
    "print(f\"Original Dictionary: {dt3}\")\n",
    "od=OrderedDict(dt3)\n",
    "od.update({'Name':'Tanmay'})\n",
    "od.move_to_end('Name',last=False)\n",
    "print(f\"New Dictionary: {od}\")\n",
    "\n",
    "\n"
   ]
  },
  {
   "cell_type": "code",
   "execution_count": null,
   "id": "3908c2f7",
   "metadata": {},
   "outputs": [],
   "source": [
    "# 6 Write a Python program to check order of character in string using OrderedDict()?\n"
   ]
  },
  {
   "cell_type": "code",
   "execution_count": 58,
   "id": "8bd1345c",
   "metadata": {},
   "outputs": [
    {
     "name": "stdout",
     "output_type": "stream",
     "text": [
      "Enter the size of dictionary:4\n",
      "Enter the key: z\n",
      "Enter the corresponding value: 45\n",
      "Enter the key: a\n",
      "Enter the corresponding value: 89\n",
      "Enter the key: x\n",
      "Enter the corresponding value: 90\n",
      "Enter the key: v\n",
      "Enter the corresponding value: 66.7\n",
      "Original dictionary {'z': '45', 'a': '89', 'x': '90', 'v': '66.7'}\n",
      "Sorted dictionary by key is: {'a': '89', 'v': '66.7', 'x': '90', 'z': '45'}\n"
     ]
    }
   ],
   "source": [
    "#7 Write a Python program to sort Python Dictionaries by Key or Value?\n",
    "\n",
    "a=int(input(\"Enter the size of dictionary:\"))\n",
    "dt5={}\n",
    "list_of_keys=[]\n",
    "for i in range(a):\n",
    "    key=input(\"Enter the key: \")\n",
    "    list_of_keys.append(key)    \n",
    "    value=input(\"Enter the corresponding value: \")\n",
    "    dt5[key]=value\n",
    "\n",
    "print(f\"Original dictionary {dt5}\")    \n",
    "list_of_keys=sorted(list_of_keys)\n",
    "sorted_dict={}\n",
    "    \n",
    "for i in list_of_keys:\n",
    "    sorted_dict[i]=dt5[i]\n",
    "        \n",
    "print(f\"Sorted dictionary by key is: {sorted_dict}\")\n",
    "    \n",
    "\n",
    "\n",
    "\n",
    "    "
   ]
  },
  {
   "cell_type": "code",
   "execution_count": null,
   "id": "79ca185f",
   "metadata": {},
   "outputs": [],
   "source": []
  }
 ],
 "metadata": {
  "kernelspec": {
   "display_name": "Python 3 (ipykernel)",
   "language": "python",
   "name": "python3"
  },
  "language_info": {
   "codemirror_mode": {
    "name": "ipython",
    "version": 3
   },
   "file_extension": ".py",
   "mimetype": "text/x-python",
   "name": "python",
   "nbconvert_exporter": "python",
   "pygments_lexer": "ipython3",
   "version": "3.9.12"
  }
 },
 "nbformat": 4,
 "nbformat_minor": 5
}
