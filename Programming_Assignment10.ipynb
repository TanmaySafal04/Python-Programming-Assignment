{
 "cells": [
  {
   "cell_type": "markdown",
   "id": "3251a7a5",
   "metadata": {},
   "source": [
    "# Questions\n",
    "1. Write a Python program to find sum of elements in list?\n",
    "2. Write a Python program to Multiply all numbers in the list?\n",
    "3. Write a Python program to find smallest number in a list?\n",
    "4. Write a Python program to find largest number in a list?\n",
    "5. Write a Python program to find second largest number in a list?\n",
    "6. Write a Python program to find N largest elements from a list?\n",
    "7. Write a Python program to print even numbers in a list?\n",
    "8. Write a Python program to print odd numbers in a List?\n",
    "9. Write a Python program to Remove empty List from List?\n",
    "10. Write a Python program to Cloning or Copying a list?\n",
    "11. Write a Python program to Count occurrences of an element in a list?"
   ]
  },
  {
   "cell_type": "code",
   "execution_count": 3,
   "id": "641c49a6",
   "metadata": {},
   "outputs": [
    {
     "name": "stdout",
     "output_type": "stream",
     "text": [
      "Enter the size of list: 5\n",
      "Enter element number 1:   5\n",
      "Enter element number 2:   3\n",
      "Enter element number 3:   6\n",
      "Enter element number 4:   8\n",
      "Enter element number 5:   9\n",
      "Sum of elements in the list is = 31\n"
     ]
    }
   ],
   "source": [
    "#1 Write a Python program to find sum of elements in list?\n",
    "n=int(input(\"Enter the size of list: \"))\n",
    "l=[]\n",
    "for i in range(n):\n",
    "    print(f\"Enter element number {i+1}: \",end=' ')\n",
    "    a=int(input(\" \"))\n",
    "    l.append(a)\n",
    "\n",
    "print(f\"Sum of elements in the list is = {sum(l)}\")"
   ]
  },
  {
   "cell_type": "code",
   "execution_count": 12,
   "id": "5895ca7d",
   "metadata": {},
   "outputs": [
    {
     "name": "stdout",
     "output_type": "stream",
     "text": [
      "Enter the size of list: 4\n",
      "Enter element number 1:   5\n",
      "Enter element number 2:   8\n",
      "Enter element number 3:   3\n",
      "Enter element number 4:   8\n",
      "Product of elements in the list is = 960\n"
     ]
    }
   ],
   "source": [
    "#2 Write a Python program to Multiply all numbers in the list?\n",
    "n=int(input(\"Enter the size of list: \"))\n",
    "l=[]\n",
    "for i in range(n):\n",
    "    print(f\"Enter element number {i+1}: \",end=' ')\n",
    "    a=int(input(\" \"))\n",
    "    l.append(a)\n",
    "    \n",
    "product=1\n",
    "\n",
    "for i in l:\n",
    "    product=product*i\n",
    "    \n",
    "print(f\"Product of elements in the list is = {product}\")\n"
   ]
  },
  {
   "cell_type": "code",
   "execution_count": 5,
   "id": "874fc426",
   "metadata": {},
   "outputs": [
    {
     "name": "stdout",
     "output_type": "stream",
     "text": [
      "Enter the size of list: 4\n",
      "Enter element number 1:   33\n",
      "Enter element number 2:   77\n",
      "Enter element number 3:   45\n",
      "Enter element number 4:   09\n",
      "Smallest element in the list is = 9\n"
     ]
    }
   ],
   "source": [
    "#3 Write a Python program to find smallest number in a list?\n",
    "n=int(input(\"Enter the size of list: \"))\n",
    "l=[]\n",
    "for i in range(n):\n",
    "    print(f\"Enter element number {i+1}: \",end=' ')\n",
    "    a=int(input(\" \"))\n",
    "    l.append(a)\n",
    "    \n",
    "print(f\"Smallest element in the list is = {min(l)}\")"
   ]
  },
  {
   "cell_type": "code",
   "execution_count": 15,
   "id": "61dfea63",
   "metadata": {},
   "outputs": [
    {
     "name": "stdout",
     "output_type": "stream",
     "text": [
      "Enter the size of list element: 5\n",
      "Enter element number 1:   34\n",
      "Enter element number 2:   24\n",
      "Enter element number 3:   87\n",
      "Enter element number 4:   78\n",
      "Enter element number 5:   90\n",
      "Largest element of the list is = 90\n"
     ]
    }
   ],
   "source": [
    "#4 Write a Python program to find largest number in a list?\n",
    "n=int(input(\"Enter the size of list element: \"))\n",
    "l=[]\n",
    "for i in range(n):\n",
    "    print(f\"Enter element number {i+1}: \",end=' ')\n",
    "    a=int(input(\" \"))\n",
    "    l.append(a)\n",
    "    \n",
    "print(f\"Largest element of the list is = {max(l)}\")\n"
   ]
  },
  {
   "cell_type": "code",
   "execution_count": 16,
   "id": "af5871c3",
   "metadata": {},
   "outputs": [
    {
     "name": "stdout",
     "output_type": "stream",
     "text": [
      "Enter the size of list: 5\n",
      "Enter element number 1:   23\n",
      "Enter element number 2:   56\n",
      "Enter element number 3:   89\n",
      "Enter element number 4:   76\n",
      "Enter element number 5:   07\n",
      "Second largest number in the list is: 76\n"
     ]
    }
   ],
   "source": [
    "#5 Write a Python program to find second largest number in a list?\n",
    "n=int(input(\"Enter the size of list: \"))\n",
    "l=[]\n",
    "for i in range(n):\n",
    "    print(f\"Enter element number {i+1}: \",end=' ')\n",
    "    a=int(input(\" \"))\n",
    "    l.append(a)\n",
    "    \n",
    "l.sort()\n",
    "print(f\"Second largest number in the list is: {l[n-2]}\")"
   ]
  },
  {
   "cell_type": "code",
   "execution_count": 19,
   "id": "1b46d9e1",
   "metadata": {},
   "outputs": [
    {
     "name": "stdout",
     "output_type": "stream",
     "text": [
      "Enter the size of list: 6\n",
      "Enter the N largest number you want to find: 3\n",
      "Enter element number 1:   34\n",
      "Enter element number 2:   65\n",
      "Enter element number 3:   78\n",
      "Enter element number 4:   09\n",
      "Enter element number 5:   07\n",
      "Enter element number 6:   23\n",
      "3th largest number in the list is: 34\n"
     ]
    }
   ],
   "source": [
    "#6 Write a Python program to find N largest elements from a list?\n",
    "\n",
    "n=int(input(\"Enter the size of list: \"))\n",
    "N=int(input(\"Enter the N largest number you want to find: \"))\n",
    "l=[]\n",
    "for i in range(n):\n",
    "    print(f\"Enter element number {i+1}: \",end=' ')\n",
    "    a=int(input(\" \"))\n",
    "    l.append(a)\n",
    "    \n",
    "l.sort()\n",
    "\n",
    "print(f\"{N}th largest number in the list is: {l[n-N]}\")\n",
    "\n",
    "\n"
   ]
  },
  {
   "cell_type": "code",
   "execution_count": 29,
   "id": "ced814ef",
   "metadata": {},
   "outputs": [
    {
     "name": "stdout",
     "output_type": "stream",
     "text": [
      "Enter the size of list: 5\n",
      "Enter element number 1:   4\n",
      "Enter element number 2:   78\n",
      "Enter element number 3:   99\n",
      "Enter element number 4:   87\n",
      "Enter element number 5:   05\n",
      "[4, 78]\n"
     ]
    }
   ],
   "source": [
    "#7 Write a Python program to print even numbers in a list?\n",
    "n=int(input(\"Enter the size of list: \"))\n",
    "l=[]\n",
    "for i in range(n):\n",
    "    print(f\"Enter element number {i+1}: \",end=' ')\n",
    "    a=int(input(\" \"))\n",
    "    l.append(a)\n",
    "    \n",
    "even=list(filter(lambda x: x%2==0,l))\n",
    "print(even)"
   ]
  },
  {
   "cell_type": "code",
   "execution_count": 30,
   "id": "a1f1ab11",
   "metadata": {},
   "outputs": [
    {
     "name": "stdout",
     "output_type": "stream",
     "text": [
      "Enter the size of list: 5\n",
      "Enter element number 1:   4\n",
      "Enter element number 2:   78\n",
      "Enter element number 3:   99\n",
      "Enter element number 4:   87\n",
      "Enter element number 5:   05\n",
      "[99, 87, 5]\n"
     ]
    }
   ],
   "source": [
    "#8 Write a Python program to print odd numbers in a list?\n",
    "n=int(input(\"Enter the size of list: \"))\n",
    "l=[]\n",
    "for i in range(n):\n",
    "    print(f\"Enter element number {i+1}: \",end=' ')\n",
    "    a=int(input(\" \"))\n",
    "    l.append(a)\n",
    "    \n",
    "odd=list(filter(lambda x: x%2!=0,l))\n",
    "print(odd)"
   ]
  },
  {
   "cell_type": "code",
   "execution_count": 45,
   "id": "3590b797",
   "metadata": {},
   "outputs": [
    {
     "name": "stdout",
     "output_type": "stream",
     "text": [
      "Enter the size of list: 4\n",
      "Enter element number 1:   5\n",
      "Enter element number 2:   []\n",
      "Enter element number 3:   4\n",
      "Enter element number 4:   []\n",
      "Original List: ['5', '[]', '4', '[]']\n",
      "New list after removal of empty lists: ['5', '4']\n"
     ]
    }
   ],
   "source": [
    "#9 Write a Python program to Remove empty List from List?\n",
    "n=int(input(\"Enter the size of list: \"))\n",
    "l=[]\n",
    "for i in range(n):\n",
    "    print(f\"Enter element number {i+1}: \",end=' ')\n",
    "    a=input(\" \")\n",
    "    l.append(a)\n",
    "print(f\"Original List: {l}\")\n",
    "for i in l:\n",
    "    if i=='[]':\n",
    "        l.remove(i)\n",
    "print(f\"New list after removal of empty lists: {l}\")"
   ]
  },
  {
   "cell_type": "code",
   "execution_count": 46,
   "id": "ad6c081e",
   "metadata": {},
   "outputs": [
    {
     "name": "stdout",
     "output_type": "stream",
     "text": [
      "Enter the size of list: 4\n",
      "Enter element number 1:   2\n",
      "Enter element number 2:   3\n",
      "Enter element number 3:   66\n",
      "Enter element number 4:   99\n",
      "Duplicate of ['2', '3', '66', '99'] is ['2', '3', '66', '99']\n"
     ]
    }
   ],
   "source": [
    "#10 Write a Python program to Cloning or Copying a list?\n",
    "n=int(input(\"Enter the size of list: \"))\n",
    "l=[]\n",
    "for i in range(n):\n",
    "    print(f\"Enter element number {i+1}: \",end=' ')\n",
    "    a=input(\" \")\n",
    "    l.append(a)\n",
    "    \n",
    "copy=l.copy()\n",
    "print(f\"Duplicate of {l} is {copy}\")\n"
   ]
  },
  {
   "cell_type": "code",
   "execution_count": 47,
   "id": "8bcb912a",
   "metadata": {},
   "outputs": [
    {
     "name": "stdout",
     "output_type": "stream",
     "text": [
      "Enter the size of list: 10\n",
      "Enter the element you want to search: 4\n",
      "Enter element number 1:   3\n",
      "Enter element number 2:   4\n",
      "Enter element number 3:   5\n",
      "Enter element number 4:   44\n",
      "Enter element number 5:   78\n",
      "Enter element number 6:   9\n",
      "Enter element number 7:   4\n",
      "Enter element number 8:   78\n",
      "Enter element number 9:   4\n",
      "Enter element number 10:   []\n",
      "Number of occurences of 4 in the list is 3\n"
     ]
    }
   ],
   "source": [
    "#11 Write a Python program to Count occurrences of an element in a list?\n",
    "n=int(input(\"Enter the size of list: \"))\n",
    "N=input(\"Enter the element you want to search: \")\n",
    "l=[]\n",
    "c=0\n",
    "for i in range(n):\n",
    "    print(f\"Enter element number {i+1}: \",end=' ')\n",
    "    a=input(\" \")\n",
    "    l.append(a)\n",
    "    \n",
    "for i in l:\n",
    "    if i==N:\n",
    "        c=c+1\n",
    "print(f\"Number of occurences of {N} in the list is {c}\")\n"
   ]
  },
  {
   "cell_type": "code",
   "execution_count": null,
   "id": "c4a59949",
   "metadata": {},
   "outputs": [],
   "source": []
  }
 ],
 "metadata": {
  "kernelspec": {
   "display_name": "Python 3 (ipykernel)",
   "language": "python",
   "name": "python3"
  },
  "language_info": {
   "codemirror_mode": {
    "name": "ipython",
    "version": 3
   },
   "file_extension": ".py",
   "mimetype": "text/x-python",
   "name": "python",
   "nbconvert_exporter": "python",
   "pygments_lexer": "ipython3",
   "version": "3.9.12"
  }
 },
 "nbformat": 4,
 "nbformat_minor": 5
}
