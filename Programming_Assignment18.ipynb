{
 "cells": [
  {
   "cell_type": "markdown",
   "id": "e29e3799",
   "metadata": {},
   "source": [
    "Question 1\n",
    "Create a function that takes a list of non-negative integers and strings and return a new list\n",
    "without the strings.\n",
    "Examples\n",
    "filter_list([1, 2, &quot;a&quot;, &quot;b&quot;]) ➞ [1, 2]\n",
    "filter_list([1, &quot;a&quot;, &quot;b&quot;, 0, 15]) ➞ [1, 0, 15]\n",
    "filter_list([1, 2, &quot;aasf&quot;, &quot;1&quot;, &quot;123&quot;, 123]) ➞ [1, 2, 123]\n",
    "\n",
    "Question 2\n",
    "The &quot;Reverser&quot; takes a string as input and returns that string in reverse order, with the\n",
    "opposite case.\n",
    "Examples\n",
    "reverse(&quot;Hello World&quot;) ➞ &quot;DLROw OLLEh&quot;\n",
    "reverse(&quot;ReVeRsE&quot;) ➞ &quot;eSrEvEr&quot;\n",
    "reverse(&quot;Radar&quot;) ➞ &quot;RADAr&quot;\n",
    "\n",
    "Question 3\n",
    "You can assign variables from lists like this:\n",
    "lst = [1, 2, 3, 4, 5, 6]\n",
    "first = lst[0]\n",
    "middle = lst[1:-1]\n",
    "last = lst[-1]\n",
    "print(first) ➞ outputs 1\n",
    "print(middle) ➞ outputs [2, 3, 4, 5]\n",
    "print(last) ➞ outputs 6\n",
    "With Python 3, you can assign variables from lists in a much more succinct way. Create\n",
    "variables first, middle and last from the given list using destructuring assignment\n",
    "(check the Resources tab for some examples), where:\n",
    "first ➞ 1\n",
    "middle ➞ [2, 3, 4, 5]\n",
    "last ➞ 6\n",
    "\n",
    "Your task is to unpack the list writeyourcodehere into three variables, being first,\n",
    "middle, and last, with middle being everything in between the first and last element. Then\n",
    "print all three variables.\n",
    "\n",
    "Question 4\n",
    "Write a function that calculates the factorial of a number recursively.\n",
    "Examples\n",
    "factorial(5) ➞ 120\n",
    "factorial(3) ➞ 6\n",
    "factorial(1) ➞ 1\n",
    "factorial(0) ➞ 1\n",
    "\n",
    "Question 5\n",
    "Write a function that moves all elements of one type to the end of the list.\n",
    "Examples\n",
    "move_to_end([1, 3, 2, 4, 4, 1], 1) ➞ [3, 2, 4, 4, 1, 1]\n",
    "# Move all the 1s to the end of the array.\n",
    "move_to_end([7, 8, 9, 1, 2, 3, 4], 9) ➞ [7, 8, 1, 2, 3, 4, 9]\n",
    "move_to_end([&quot;a&quot;, &quot;a&quot;, &quot;a&quot;, &quot;b&quot;], &quot;a&quot;) ➞ [&quot;b&quot;, &quot;a&quot;, &quot;a&quot;, &quot;a&quot;]"
   ]
  },
  {
   "cell_type": "markdown",
   "id": "9b5066c4",
   "metadata": {},
   "source": [
    "# Solutions"
   ]
  },
  {
   "cell_type": "markdown",
   "id": "4eefb2af",
   "metadata": {},
   "source": [
    "Question 1 Create a function that takes a list of non-negative integers and strings and return a new list without the strings. Examples filter_list([1, 2, \"a\", \"b\"]) ➞ [1, 2] filter_list([1, \"a\", \"b\", 0, 15]) ➞ [1, 0, 15] filter_list([1, 2, \"aasf\", \"1\", \"123\", 123]) ➞ [1, 2, 123]"
   ]
  },
  {
   "cell_type": "code",
   "execution_count": 14,
   "id": "ab610d01",
   "metadata": {},
   "outputs": [
    {
     "data": {
      "text/plain": [
       "[1, 0, 15]"
      ]
     },
     "execution_count": 14,
     "metadata": {},
     "output_type": "execute_result"
    }
   ],
   "source": [
    "#1\n",
    "def filter_list(l):\n",
    "    l1=[]\n",
    "    for i in l:\n",
    "        if str(i).isnumeric():\n",
    "            l1.append(i)\n",
    "        else:\n",
    "            pass\n",
    "    return l1\n",
    "            \n",
    "        \n",
    "filter_list([1, \"a\", \"b\", 0, 15])    "
   ]
  },
  {
   "cell_type": "markdown",
   "id": "8922dcc9",
   "metadata": {},
   "source": [
    "Question 2 The \"Reverser\" takes a string as input and returns that string in reverse order, with the opposite case. Examples reverse(\"Hello World\") ➞ \"DLROw OLLEh\" reverse(\"ReVeRsE\") ➞ \"eSrEvEr\" reverse(\"Radar\") ➞ \"RADAr\""
   ]
  },
  {
   "cell_type": "code",
   "execution_count": 15,
   "id": "651a7352",
   "metadata": {},
   "outputs": [
    {
     "data": {
      "text/plain": [
       "'DLROwW OLLEhH'"
      ]
     },
     "execution_count": 15,
     "metadata": {},
     "output_type": "execute_result"
    }
   ],
   "source": [
    "#2\n",
    "def reverse(s):\n",
    "    rev_str=\"\"\n",
    "    s1=s[::-1]\n",
    "    for i in s1:\n",
    "        if i.isupper():\n",
    "            rev_str=rev_str+i.lower()\n",
    "        if i.islower():\n",
    "            rev_str=rev_str+i.upper()    \n",
    "        else:\n",
    "            rev_str=rev_str+i\n",
    "    return rev_str\n",
    "\n",
    "reverse(\"Hello World\")\n",
    "            "
   ]
  },
  {
   "cell_type": "markdown",
   "id": "0a37e773",
   "metadata": {},
   "source": [
    "Question 3 You can assign variables from lists like this: lst = [1, 2, 3, 4, 5, 6] first = lst[0] middle = lst[1:-1] last = lst[-1] print(first) ➞ outputs 1 print(middle) ➞ outputs [2, 3, 4, 5] print(last) ➞ outputs 6 With Python 3, you can assign variables from lists in a much more succinct way. Create variables first, middle and last from the given list using destructuring assignment (check the Resources tab for some examples), where: first ➞ 1 middle ➞ [2, 3, 4, 5] last ➞ 6"
   ]
  },
  {
   "cell_type": "code",
   "execution_count": 22,
   "id": "ca036851",
   "metadata": {},
   "outputs": [
    {
     "name": "stdout",
     "output_type": "stream",
     "text": [
      "Enter the no. of elements to be inserted in a list:8\n",
      "Enter the values: \n",
      "\n",
      "1\n",
      "2\n",
      "3\n",
      "4\n",
      "5\n",
      "6\n",
      "7\n",
      "8\n",
      "first -->: 1  middle --> ['2', '3', '4', '5', '6', '7']  last --> 8\n"
     ]
    }
   ],
   "source": [
    "#3\n",
    "n=int(input(\"Enter the no. of elements to be inserted in a list:\"))\n",
    "print(\"Enter the values: \\n\")\n",
    "l=[]\n",
    "for i in range(0,n):\n",
    "    l.append(input())\n",
    "    \n",
    "first=l[0]\n",
    "middle=l[1:-1]\n",
    "last=l[-1]\n",
    "\n",
    "print(f\"first -->: {first}  middle --> {middle}  last --> {last}\")\n",
    "    \n",
    "    "
   ]
  },
  {
   "cell_type": "markdown",
   "id": "33fb3835",
   "metadata": {},
   "source": [
    "first"
   ]
  },
  {
   "cell_type": "markdown",
   "id": "35eef59c",
   "metadata": {},
   "source": [
    "Question 4 Write a function that calculates the factorial of a number recursively. Examples factorial(5) ➞ 120 factorial(3) ➞ 6 factorial(1) ➞ 1 factorial(0) ➞ 1"
   ]
  },
  {
   "cell_type": "code",
   "execution_count": 4,
   "id": "e78bff4b",
   "metadata": {},
   "outputs": [
    {
     "data": {
      "text/plain": [
       "720"
      ]
     },
     "execution_count": 4,
     "metadata": {},
     "output_type": "execute_result"
    }
   ],
   "source": [
    "#4\n",
    "def factorial(a):\n",
    "    if a==1:\n",
    "        return a\n",
    "    if a==0:\n",
    "        return 1\n",
    "    else:\n",
    "        return a*factorial(a-1)\n",
    "    \n",
    "factorial(6)"
   ]
  },
  {
   "cell_type": "markdown",
   "id": "091ee9da",
   "metadata": {},
   "source": [
    "Question 5 Write a function that moves all elements of one type to the end of the list. Examples move_to_end([1, 3, 2, 4, 4, 1], 1) ➞ [3, 2, 4, 4, 1, 1]"
   ]
  },
  {
   "cell_type": "code",
   "execution_count": 43,
   "id": "caf666c6",
   "metadata": {},
   "outputs": [],
   "source": [
    "#5\n",
    "def move_to_end(l1,a):\n",
    "    \n",
    "    #for i in l1:\n",
    "    c=l1.count(a)\n",
    "    for k in range(0,c):\n",
    "        l1.remove(a)\n",
    "        \n",
    "    for k in range(0,c):\n",
    "        l1.append(a)\n",
    "            \n",
    "    return l1\n",
    "    \n",
    "            \n",
    "            "
   ]
  },
  {
   "cell_type": "code",
   "execution_count": 44,
   "id": "70093596",
   "metadata": {},
   "outputs": [
    {
     "data": {
      "text/plain": [
       "[3, 3, 2, 4, 1, 1]"
      ]
     },
     "execution_count": 44,
     "metadata": {},
     "output_type": "execute_result"
    }
   ],
   "source": [
    "move_to_end([1,3,3,2,4,1],1)"
   ]
  }
 ],
 "metadata": {
  "kernelspec": {
   "display_name": "Python 3 (ipykernel)",
   "language": "python",
   "name": "python3"
  },
  "language_info": {
   "codemirror_mode": {
    "name": "ipython",
    "version": 3
   },
   "file_extension": ".py",
   "mimetype": "text/x-python",
   "name": "python",
   "nbconvert_exporter": "python",
   "pygments_lexer": "ipython3",
   "version": "3.9.12"
  }
 },
 "nbformat": 4,
 "nbformat_minor": 5
}
