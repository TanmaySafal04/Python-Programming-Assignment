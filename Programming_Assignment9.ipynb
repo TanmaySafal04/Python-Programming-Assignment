{
 "cells": [
  {
   "cell_type": "markdown",
   "id": "d84fed65",
   "metadata": {},
   "source": [
    "# Questions\n",
    "1. Write a Python program to check if the given number is a Disarium Number?\n",
    "2. Write a Python program to print all disarium numbers between 1 to 100?\n",
    "3. Write a Python program to check if the given number is Happy Number?\n",
    "4. Write a Python program to print all happy numbers between 1 and 100?\n",
    "5. Write a Python program to determine whether the given number is a Harshad Number?\n",
    "6. Write a Python program to print all pronic numbers between 1 and 100?"
   ]
  },
  {
   "cell_type": "code",
   "execution_count": 4,
   "id": "0a7ff227",
   "metadata": {},
   "outputs": [
    {
     "name": "stdout",
     "output_type": "stream",
     "text": [
      "Enter a number11\n",
      "11 is not a Disarium no.\n"
     ]
    }
   ],
   "source": [
    "#1 Write a Python program to check if the given number is a Disarium Number?\n",
    "# Sum of its digits powered with their respective position is equal to the original number.\n",
    "# Some other DISARIUM are 89, 175, 518 etc.\n",
    "a=int(input(\"Enter a number\"))\n",
    "l=len(str(a))\n",
    "sum=0\n",
    "temp=a\n",
    "while(a>0):\n",
    "    b=a%10\n",
    "    a=int(a/10)\n",
    "    sum=sum+(b**l)\n",
    "    l=l-1\n",
    "    \n",
    "if(temp==sum):\n",
    "    print(f\"{temp} is a Disarium no.\")\n",
    "else:\n",
    "    print(f\"{temp} is not a Disarium no.\")\n",
    "    \n",
    "    \n",
    "    \n",
    "    "
   ]
  },
  {
   "cell_type": "code",
   "execution_count": 7,
   "id": "f6ae113f",
   "metadata": {},
   "outputs": [
    {
     "name": "stdout",
     "output_type": "stream",
     "text": [
      "1\n",
      "2\n",
      "3\n",
      "4\n",
      "5\n",
      "6\n",
      "7\n",
      "8\n",
      "9\n",
      "89\n"
     ]
    }
   ],
   "source": [
    "2# Write a Python program to print all disarium numbers between 1 to 100?\n",
    "for i in range(1,100):\n",
    "    l=len(str(i))\n",
    "    sum=0\n",
    "    temp=i\n",
    "    while(temp>0):\n",
    "        b=temp%10\n",
    "        temp=int(temp/10)\n",
    "        sum=sum+(b**l)\n",
    "        l=l-1\n",
    "    if(i==sum):\n",
    "        print(i)\n",
    "    else:\n",
    "        continue\n",
    "    \n",
    "        "
   ]
  },
  {
   "cell_type": "code",
   "execution_count": 9,
   "id": "7e460d4d",
   "metadata": {},
   "outputs": [
    {
     "name": "stdout",
     "output_type": "stream",
     "text": [
      "Enter a number:\n",
      "81\n",
      "81 is not a Happy No.\n"
     ]
    }
   ],
   "source": [
    "#3 Write a Python program to check if the given number is Happy Number?\n",
    "a=int(input(\"Enter a number:\\n\"))\n",
    "temp=a\n",
    "sum=0\n",
    "i=0\n",
    "while(True):\n",
    "    \n",
    "    while(a>0):\n",
    "        b=a%10\n",
    "        sum=sum+(b**2)\n",
    "        a=int(a/10)\n",
    "        \n",
    "    if(sum<=9):\n",
    "        if(sum==1):\n",
    "            print(f\"{temp} is a Happy No.\")\n",
    "            break\n",
    "        else:\n",
    "            print(f\"{temp} is not a Happy No.\")\n",
    "            break\n",
    "    else:\n",
    "        a=sum\n",
    "        sum=0\n",
    "        continue\n",
    "    \n"
   ]
  },
  {
   "cell_type": "code",
   "execution_count": 1,
   "id": "6a919207",
   "metadata": {},
   "outputs": [
    {
     "name": "stdout",
     "output_type": "stream",
     "text": [
      "1\n",
      "7\n",
      "10\n",
      "13\n",
      "19\n",
      "23\n",
      "28\n",
      "31\n",
      "32\n",
      "44\n",
      "49\n",
      "68\n",
      "70\n",
      "79\n",
      "82\n",
      "86\n",
      "91\n",
      "94\n",
      "97\n"
     ]
    }
   ],
   "source": [
    "#4 Write a Python program to print all happy numbers between 1 and 100?\n",
    "for i in range(1,100):\n",
    "    \n",
    "    temp=i\n",
    "    sum=0\n",
    "    while(True):\n",
    "        while(temp>0):\n",
    "            b=temp%10\n",
    "            sum=sum+(b**2)\n",
    "            temp=int(temp/10)\n",
    "        \n",
    "        if(sum<=9):\n",
    "            if(sum==1):\n",
    "                print(i)\n",
    "                break\n",
    "            else:\n",
    "                break\n",
    "        else:\n",
    "            temp=sum\n",
    "            sum=0\n",
    "            continue\n"
   ]
  },
  {
   "cell_type": "code",
   "execution_count": 7,
   "id": "d5f2c6df",
   "metadata": {},
   "outputs": [
    {
     "name": "stdout",
     "output_type": "stream",
     "text": [
      "Enter a no.156\n",
      "156 is a Harshad no.\n"
     ]
    }
   ],
   "source": [
    "#5 Write a Python program to determine whether the given number is a Harshad Number?\n",
    "# A number is said to be the Harshad number if it is divisible by the sum of its digit.\n",
    "# For example, if number is 156, then sum of its digit will be 1 + 5 + 6 = 12.\n",
    "# Since 156 is divisible by 12. So, 156 is a Harshad number.\n",
    "\n",
    "a=int(input(\"Enter a no.\"))\n",
    "temp=a\n",
    "sum=0\n",
    "while(a>0):\n",
    "    b=a%10\n",
    "    a=int(a/10)\n",
    "    sum=sum+b\n",
    "if(temp%sum==0):\n",
    "    print(f\"{temp} is a Harshad no.\")\n",
    "else:\n",
    "    print(f\"{temp} is not a Harshad no.\")\n",
    "\n",
    "    \n",
    "    "
   ]
  },
  {
   "cell_type": "code",
   "execution_count": 20,
   "id": "176a9c72",
   "metadata": {},
   "outputs": [
    {
     "name": "stdout",
     "output_type": "stream",
     "text": [
      "0\n",
      "2\n",
      "6\n",
      "12\n",
      "20\n",
      "30\n",
      "42\n",
      "56\n",
      "72\n",
      "90\n"
     ]
    }
   ],
   "source": [
    "#6 Write a Python program to print all pronic numbers between 1 and 100 ?\n",
    "for j in range(0,100):\n",
    "    \n",
    "    for i in range(0,j+1):\n",
    "        if((i*(i+1))==j):\n",
    "            print(j)\n",
    "            break\n",
    "        else:\n",
    "            continue\n",
    "        \n",
    "\n",
    "        \n"
   ]
  },
  {
   "cell_type": "code",
   "execution_count": null,
   "id": "527e27d3",
   "metadata": {},
   "outputs": [],
   "source": []
  }
 ],
 "metadata": {
  "kernelspec": {
   "display_name": "Python 3 (ipykernel)",
   "language": "python",
   "name": "python3"
  },
  "language_info": {
   "codemirror_mode": {
    "name": "ipython",
    "version": 3
   },
   "file_extension": ".py",
   "mimetype": "text/x-python",
   "name": "python",
   "nbconvert_exporter": "python",
   "pygments_lexer": "ipython3",
   "version": "3.9.12"
  }
 },
 "nbformat": 4,
 "nbformat_minor": 5
}
