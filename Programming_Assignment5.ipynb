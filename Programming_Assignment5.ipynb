{
 "cells": [
  {
   "cell_type": "markdown",
   "id": "1c167085",
   "metadata": {},
   "source": [
    "# Questions\n"
   ]
  },
  {
   "cell_type": "markdown",
   "id": "78165f4e",
   "metadata": {},
   "source": [
    "1. Write a Python Program to Find LCM?\n",
    "2. Write a Python Program to Find HCF?\n",
    "3. Write a Python Program to Convert Decimal to Binary, Octal and Hexadecimal?\n",
    "4. Write a Python Program To Find ASCII value of a character?\n",
    "5. Write a Python Program to Make a Simple Calculator with 4 basic mathematical operations?"
   ]
  },
  {
   "cell_type": "markdown",
   "id": "8450cd49",
   "metadata": {},
   "source": [
    "# Solutions"
   ]
  },
  {
   "cell_type": "code",
   "execution_count": 12,
   "id": "321f32e6",
   "metadata": {},
   "outputs": [
    {
     "name": "stdout",
     "output_type": "stream",
     "text": [
      "Enter the 1st no.4\n",
      "Enter the 2nd no.3\n",
      "LCM of 4 and 3 is 12\n"
     ]
    }
   ],
   "source": [
    "#1 Write a Python Program to Find LCM?\n",
    "a=int(input(\"Enter the 1st no.\"))\n",
    "b=int(input(\"Enter the 2nd no.\"))\n",
    "lcm=0\n",
    "for i in range(min(a,b),(a*b)+1):\n",
    "    if(i%a==0 and i%b==0):\n",
    "        lcm=i\n",
    "        break\n",
    "    else:\n",
    "        continue\n",
    "        \n",
    "print(f\"LCM of {a} and {b} is {lcm}\")\n"
   ]
  },
  {
   "cell_type": "code",
   "execution_count": 11,
   "id": "93c188b0",
   "metadata": {},
   "outputs": [
    {
     "name": "stdout",
     "output_type": "stream",
     "text": [
      "Enter the 1st no.12\n",
      "Enter the 2nd no.18\n",
      "HCF of 12 and 18 is 6\n"
     ]
    }
   ],
   "source": [
    "#2 Write a Python Program to Find HCF?\n",
    "a=int(input(\"Enter the 1st no.\"))\n",
    "b=int(input(\"Enter the 2nd no.\"))\n",
    "hcf=0\n",
    "\n",
    "for i in range(1,min(a,b)+1):\n",
    "    if(a%i==0 and b%i==0):\n",
    "        hcf=i\n",
    "        \n",
    "    else:\n",
    "        continue\n",
    "        \n",
    "print(f\"HCF of {a} and {b} is {hcf}\")\n",
    "\n"
   ]
  },
  {
   "cell_type": "code",
   "execution_count": 82,
   "id": "dee87905",
   "metadata": {},
   "outputs": [
    {
     "name": "stdout",
     "output_type": "stream",
     "text": [
      "Enter a no.22\n",
      "Binary of 22 is 01101\n",
      "Octal of 22 is 26\n",
      "Hexadecimal of 22 is 16\n"
     ]
    }
   ],
   "source": [
    "#3 Write a Python Program to Convert Decimal to Binary, Octal and Hexadecimal?\n",
    "\n",
    "#BINARY\n",
    "a=int(input(\"Enter a no.\"))\n",
    "temp=a\n",
    "binary=\"\"\n",
    "while(a>=1):\n",
    "    binary=binary+str(a%2)\n",
    "    a=int(a/2)\n",
    "    \n",
    "print(f\"Binary of {temp} is {binary}\")\n",
    "a=temp\n",
    "\n",
    "###############################################################################################################\n",
    "#OCTAL\n",
    "l=[]\n",
    "i=0\n",
    "octal=\"\"\n",
    "while(a>(8**i)):\n",
    "    b=(8**i)\n",
    "    l.append(b)\n",
    "    i=i+1\n",
    "    \n",
    "for j in range(len(l)-1,-1,-1):\n",
    "    d=int(a/l[j])\n",
    "    octal=octal+str(d)\n",
    "    a=a%l[j]\n",
    "    \n",
    "print(f\"Octal of {temp} is {octal}\")\n",
    "\n",
    "a=temp\n",
    "\n",
    "#########################################################################################################\n",
    "#HEXADECIMAL\n",
    "l=[]\n",
    "i=0\n",
    "hexa=\"\"\n",
    "while(a>(16**i)):\n",
    "    b=(16**i)\n",
    "    l.append(b)\n",
    "    i=i+1\n",
    "    \n",
    "for j in range(len(l)-1,-1,-1):\n",
    "    d=int(a/l[j])\n",
    "    hexa=hexa+str(d)\n",
    "    a=a%l[j]\n",
    "    \n",
    "print(f\"Hexadecimal of {temp} is {hexa}\")\n",
    "\n",
    "\n",
    "\n",
    "\n",
    "\n",
    "\n",
    "\n",
    "    "
   ]
  },
  {
   "cell_type": "markdown",
   "id": "e967da4c",
   "metadata": {},
   "source": [
    "# Below is the code for conversion of any number to any base"
   ]
  },
  {
   "cell_type": "code",
   "execution_count": 87,
   "id": "2686b1c9",
   "metadata": {},
   "outputs": [
    {
     "name": "stdout",
     "output_type": "stream",
     "text": [
      "Enter the base in integer which you want to convert eg. 2 for binary, 8 for Octal or any base8\n",
      "Enter the number to be converted to base 8:\n",
      " 136\n",
      "The number 136 after conversion to base 8 is: 210\n"
     ]
    }
   ],
   "source": [
    "\n",
    "n=int(input(\"Enter the base in integer which you want to convert eg. 2 for binary, 8 for Octal or any base\"))\n",
    "a=int(input(f\"Enter the number to be converted to base {n}:\\n \"))\n",
    "temp=a\n",
    "l=[]\n",
    "i=0\n",
    "o=\"\"\n",
    "while(a>(n**i)):\n",
    "    b=(n**i)\n",
    "    l.append(b)\n",
    "    i=i+1\n",
    "    \n",
    "for j in range(len(l)-1,-1,-1):\n",
    "    d=int(a/l[j])\n",
    "    o=o+str(d)\n",
    "    a=a%l[j]\n",
    "    \n",
    "print(f\"The number {temp} after conversion to base {n} is: {o}\")"
   ]
  },
  {
   "cell_type": "code",
   "execution_count": 38,
   "id": "4ce2241c",
   "metadata": {},
   "outputs": [
    {
     "name": "stdout",
     "output_type": "stream",
     "text": [
      "Enter a character: z\n",
      "122\n"
     ]
    }
   ],
   "source": [
    "#4 Write a Python Program To Find ASCII value of a character?\n",
    "a=input(\"Enter a character: \")\n",
    "print(ord(a[0]))"
   ]
  },
  {
   "cell_type": "code",
   "execution_count": 42,
   "id": "77c20f84",
   "metadata": {},
   "outputs": [
    {
     "name": "stdout",
     "output_type": "stream",
     "text": [
      "Enter the operation you wish to perform /\n",
      "Enter the 1st no.2\n",
      "Enter the 2nd no.5\n",
      "0.4\n"
     ]
    }
   ],
   "source": [
    "#5 Write a Python Program to Make a Simple Calculator with 4 basic mathematical operations?\n",
    "operation=input(\"Enter the operation you wish to perform \")\n",
    "a=int(input(\"Enter the 1st no.\"))\n",
    "b=int(input(\"Enter the 2nd no.\"))\n",
    "\n",
    "if operation==\"+\":\n",
    "    print(a+b)\n",
    "if operation==\"-\":\n",
    "    print(a-b)\n",
    "if operation==\"*\":\n",
    "    print(a*b)\n",
    "if operation==\"/\":\n",
    "    print(a/b)\n"
   ]
  },
  {
   "cell_type": "code",
   "execution_count": null,
   "id": "9bbffbfe",
   "metadata": {},
   "outputs": [],
   "source": []
  }
 ],
 "metadata": {
  "kernelspec": {
   "display_name": "Python 3 (ipykernel)",
   "language": "python",
   "name": "python3"
  },
  "language_info": {
   "codemirror_mode": {
    "name": "ipython",
    "version": 3
   },
   "file_extension": ".py",
   "mimetype": "text/x-python",
   "name": "python",
   "nbconvert_exporter": "python",
   "pygments_lexer": "ipython3",
   "version": "3.9.12"
  }
 },
 "nbformat": 4,
 "nbformat_minor": 5
}
