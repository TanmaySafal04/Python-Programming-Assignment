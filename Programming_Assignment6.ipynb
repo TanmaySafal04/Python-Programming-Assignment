{
 "cells": [
  {
   "cell_type": "markdown",
   "id": "7afcec26",
   "metadata": {},
   "source": [
    "# Questions\n",
    "1. Write a Python Program to Display Fibonacci Sequence Using Recursion?\n",
    "2. Write a Python Program to Find Factorial of Number Using Recursion?\n",
    "3. Write a Python Program to calculate your Body Mass Index?\n",
    "4. Write a Python Program to calculate the natural logarithm of any number?\n",
    "5. Write a Python Program for cube sum of first n natural numbers?\n"
   ]
  },
  {
   "cell_type": "code",
   "execution_count": 11,
   "id": "67e42c54",
   "metadata": {},
   "outputs": [
    {
     "name": "stdout",
     "output_type": "stream",
     "text": [
      "Enter no. of terms: 10\n",
      "0\n",
      "1\n",
      "1\n",
      "2\n",
      "3\n",
      "5\n",
      "8\n",
      "13\n",
      "21\n",
      "34\n"
     ]
    }
   ],
   "source": [
    "#1 Write a Python Program to Display Fibonacci Sequence Using Recursion?\n",
    "\n",
    "def fibonacci(n):\n",
    "    if n<=1:\n",
    "        return n\n",
    "    else:\n",
    "        return fibonacci(n-1)+fibonacci(n-2)\n",
    "    \n",
    "n=int(input(\"Enter no. of terms: \"))\n",
    "    \n",
    "for i in range(n):\n",
    "    print(fibonacci(i))\n",
    "    \n",
    "    "
   ]
  },
  {
   "cell_type": "code",
   "execution_count": 1,
   "id": "cdfcad34",
   "metadata": {},
   "outputs": [
    {
     "name": "stdout",
     "output_type": "stream",
     "text": [
      "Enter a number: 5\n",
      "factorial of 5 is :120\n"
     ]
    }
   ],
   "source": [
    "#2 Write a Python Program to Find Factorial of Number Using Recursion?\n",
    "s=1\n",
    "def factorial(n):\n",
    "    if n==1:\n",
    "        return n\n",
    "    else:\n",
    "        return n*factorial(n-1)\n",
    "    \n",
    "n=int(input(\"Enter a number: \"))\n",
    "print(f\"factorial of {n} is :{factorial(n)}\")\n",
    "    "
   ]
  },
  {
   "cell_type": "code",
   "execution_count": 6,
   "id": "2aaa40a2",
   "metadata": {},
   "outputs": [
    {
     "name": "stdout",
     "output_type": "stream",
     "text": [
      "Enter your weight in kg: 78\n",
      "Enter your height in feet: 6\n",
      "Body Mass Index is: 23.309866666666665\n"
     ]
    }
   ],
   "source": [
    "#3 Write a Python Program to calculate your Body Mass Index?\n",
    "weight=float(input(\"Enter your weight in kg: \"))\n",
    "height=float(input(\"Enter your height in feet: \"))\n",
    "height=height/3.28\n",
    "\n",
    "BMI=weight/(height**2)\n",
    "\n",
    "print(f\"Body Mass Index is: {BMI}\")\n",
    "\n"
   ]
  },
  {
   "cell_type": "code",
   "execution_count": 8,
   "id": "0406fdb0",
   "metadata": {},
   "outputs": [
    {
     "name": "stdout",
     "output_type": "stream",
     "text": [
      "Enter a number: 2\n",
      "Natural log of 2.0 is 0.6931471805599453\n"
     ]
    }
   ],
   "source": [
    "#4 Write a Python Program to calculate the natural logarithm of any number?\n",
    "import math\n",
    "a=float(input(\"Enter a number: \"))\n",
    "\n",
    "print(f\"Natural log of {a} is {math.log(a)}\")\n"
   ]
  },
  {
   "cell_type": "code",
   "execution_count": 10,
   "id": "abd4fbf3",
   "metadata": {},
   "outputs": [
    {
     "name": "stdout",
     "output_type": "stream",
     "text": [
      "Enter the no. of natural numbers whose sum of cube you want: 4\n",
      "Sum of cubes of first n natural numbers is: 100\n"
     ]
    }
   ],
   "source": [
    "#5 Write a Python Program for cube sum of first n natural numbers?\n",
    "n=int(input(\"Enter the no. of natural numbers whose sum of cube you want: \"))\n",
    "s=0\n",
    "for i in range(n+1):\n",
    "    s=s+i**3\n",
    "    \n",
    "print(f\"Sum of cubes of first n natural numbers is: {s}\")\n",
    "    "
   ]
  }
 ],
 "metadata": {
  "kernelspec": {
   "display_name": "Python 3 (ipykernel)",
   "language": "python",
   "name": "python3"
  },
  "language_info": {
   "codemirror_mode": {
    "name": "ipython",
    "version": 3
   },
   "file_extension": ".py",
   "mimetype": "text/x-python",
   "name": "python",
   "nbconvert_exporter": "python",
   "pygments_lexer": "ipython3",
   "version": "3.9.12"
  }
 },
 "nbformat": 4,
 "nbformat_minor": 5
}
