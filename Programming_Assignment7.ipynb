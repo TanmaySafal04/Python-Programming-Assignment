{
 "cells": [
  {
   "cell_type": "markdown",
   "id": "89e31889",
   "metadata": {},
   "source": [
    "# Questions"
   ]
  },
  {
   "cell_type": "markdown",
   "id": "387bbf51",
   "metadata": {},
   "source": [
    "1. Write a Python Program to find sum of array?\n",
    "2. Write a Python Program to find largest element in an array?\n",
    "3. Write a Python Program for array rotation?\n",
    "4. Write a Python Program to Split the array and add the first part to the end?\n",
    "5. Write a Python Program to check if given array is Monotonic?"
   ]
  },
  {
   "cell_type": "code",
   "execution_count": 13,
   "id": "ac2993f3",
   "metadata": {},
   "outputs": [
    {
     "name": "stdout",
     "output_type": "stream",
     "text": [
      "Enter the size of array: 4\n",
      "Enter element number 1:   44\n",
      "Enter element number 2:   -9\n",
      "Enter element number 3:   4\n",
      "Enter element number 4:   -26\n",
      "Sum of array is = 13\n"
     ]
    }
   ],
   "source": [
    "#1 Write a Python Program to find sum of array?\n",
    "n=int(input(\"Enter the size of array: \"))\n",
    "l=[]\n",
    "for i in range(n):\n",
    "    print(f\"Enter element number {i+1}: \",end=' ')\n",
    "    a=int(input(\" \"))\n",
    "    l.append(a)\n",
    "\n",
    "print(f\"Sum of array is = {sum(l)}\")"
   ]
  },
  {
   "cell_type": "code",
   "execution_count": 14,
   "id": "27e720e8",
   "metadata": {},
   "outputs": [
    {
     "name": "stdout",
     "output_type": "stream",
     "text": [
      "Enter the size of array: 5\n",
      "Enter element number 1:   3\n",
      "Enter element number 2:   99\n",
      "Enter element number 3:   565\n",
      "Enter element number 4:   -1000\n",
      "Enter element number 5:   43\n",
      "Largest element of array is = 565\n"
     ]
    }
   ],
   "source": [
    "#2 Write a Python Program to find largest element in an array?\n",
    "\n",
    "n=int(input(\"Enter the size of array: \"))\n",
    "l=[]\n",
    "for i in range(n):\n",
    "    print(f\"Enter element number {i+1}: \",end=' ')\n",
    "    a=int(input(\" \"))\n",
    "    l.append(a)\n",
    "    \n",
    "print(f\"Largest element of array is = {max(l)}\")"
   ]
  },
  {
   "cell_type": "code",
   "execution_count": 2,
   "id": "b5eeccb7",
   "metadata": {
    "scrolled": true
   },
   "outputs": [
    {
     "name": "stdout",
     "output_type": "stream",
     "text": [
      "Enter the size of array: 4\n",
      "Enter element number 1:   1\n",
      "Enter element number 2:   2\n",
      "Enter element number 3:   3\n",
      "Enter element number 4:   4\n",
      "Do you want to rotate left or right: \n",
      "up\n",
      "Please enter correct rotation method \n",
      "\n",
      "Enter the size of array: 4\n",
      "Enter element number 1:   1\n",
      "Enter element number 2:   2\n",
      "Enter element number 3:   3\n",
      "Enter element number 4:   4\n",
      "Do you want to rotate left or right: \n",
      "right\n",
      "Array before rotation is: [1, 2, 3, 4] \n",
      "\n",
      "Array after rotation is: [4, 1, 2, 3] \n",
      "\n"
     ]
    }
   ],
   "source": [
    "#3 Write a Python Program for array rotation?\n",
    "while True:\n",
    "    n=int(input(\"Enter the size of array: \"))\n",
    "    l=[]\n",
    "    for i in range(n):\n",
    "        print(f\"Enter element number {i+1}: \",end=' ')\n",
    "        a=int(input(\" \"))\n",
    "        l.append(a)\n",
    "    \n",
    "    left_or_right=input(\"Do you want to rotate left or right: \\n\")\n",
    "   \n",
    "\n",
    "    if left_or_right=='left':\n",
    "        print(f\"Array before rotation is: {l} \\n\")\n",
    "        for i in range(n-1):\n",
    "            temp=l[i]\n",
    "            l[i]=l[i+1]\n",
    "            l[i+1]=temp    \n",
    "        print(f\"Array after rotation is: {l}\\n\")\n",
    "        break\n",
    "    \n",
    "    elif left_or_right=='right':\n",
    "        print(f\"Array before rotation is: {l} \\n\")\n",
    "        for i in range(n-1,0,-1):\n",
    "            temp=l[i]\n",
    "            l[i]=l[i-1]\n",
    "            l[i-1]=temp\n",
    "        print(f\"Array after rotation is: {l} \\n\")\n",
    "        break\n",
    "    \n",
    "    else:\n",
    "        print(\"Please enter correct rotation method \\n\")\n",
    "        continue\n",
    "        \n"
   ]
  },
  {
   "cell_type": "code",
   "execution_count": 37,
   "id": "0ee152b7",
   "metadata": {},
   "outputs": [
    {
     "name": "stdout",
     "output_type": "stream",
     "text": [
      "Enter the size of array: 5\n",
      "Enter element number 1:   1\n",
      "Enter element number 2:   2\n",
      "Enter element number 3:   3\n",
      "Enter element number 4:   4\n",
      "Enter element number 5:   5\n",
      "List before splitting is: [1, 2, 3, 4, 5]\n",
      "New list after splitting and adding at the end is: [4, 5, 1, 2, 3]\n"
     ]
    }
   ],
   "source": [
    "#4 Write a Python Program to Split the array and add the first part to the end?\n",
    "import numpy as np\n",
    "n=int(input(\"Enter the size of array: \"))\n",
    "l=[]\n",
    "for i in range(n):\n",
    "    print(f\"Enter element number {i+1}: \",end=' ')\n",
    "    a=int(input(\" \"))\n",
    "    l.append(a)\n",
    "    \n",
    "print(f\"List before splitting is: {l}\")\n",
    "    \n",
    "l=np.array(l)\n",
    "new=np.array_split(l,2)\n",
    "l=list(new[1])+list(new[0])\n",
    "\n",
    "print(f\"New list after splitting and adding at the end is: {l}\")\n",
    "\n"
   ]
  },
  {
   "cell_type": "code",
   "execution_count": 46,
   "id": "9e104dad",
   "metadata": {},
   "outputs": [
    {
     "name": "stdout",
     "output_type": "stream",
     "text": [
      "Enter the size of array: 3\n",
      "Enter element number 1:   5\n",
      "Enter element number 2:   6\n",
      "Enter element number 3:   88\n",
      "Array [5, 6, 88] is monotonic\n"
     ]
    }
   ],
   "source": [
    "#5 Write a Python Program to check if given array is Monotonic?\n",
    "\n",
    "n=int(input(\"Enter the size of array: \"))\n",
    "l=[]\n",
    "for i in range(n):\n",
    "    print(f\"Enter element number {i+1}: \",end=' ')\n",
    "    a=int(input(\" \"))\n",
    "    l.append(a)\n",
    "    flag=False\n",
    "if l[0]<l[1]:\n",
    "    for i in range(n-1):\n",
    "        if l[i]<l[i+1]:\n",
    "            pass\n",
    "        else:\n",
    "            flag=True\n",
    "\n",
    "elif l[0]>l[1]:\n",
    "     for i in range(n-1):\n",
    "        if l[i]>l[i+1]:\n",
    "            pass\n",
    "        else:\n",
    "            flag=True\n",
    "            \n",
    "if flag==True:\n",
    "    print(f\"Array {l} is not monotonic\")\n",
    "else:\n",
    "    print(f\"Array {l} is monotonic\")\n",
    "    \n",
    "    \n",
    "\n"
   ]
  },
  {
   "cell_type": "code",
   "execution_count": null,
   "id": "d4d74775",
   "metadata": {},
   "outputs": [],
   "source": []
  }
 ],
 "metadata": {
  "kernelspec": {
   "display_name": "Python 3 (ipykernel)",
   "language": "python",
   "name": "python3"
  },
  "language_info": {
   "codemirror_mode": {
    "name": "ipython",
    "version": 3
   },
   "file_extension": ".py",
   "mimetype": "text/x-python",
   "name": "python",
   "nbconvert_exporter": "python",
   "pygments_lexer": "ipython3",
   "version": "3.9.12"
  }
 },
 "nbformat": 4,
 "nbformat_minor": 5
}
