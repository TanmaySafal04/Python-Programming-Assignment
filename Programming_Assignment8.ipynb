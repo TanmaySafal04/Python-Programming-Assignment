{
 "cells": [
  {
   "cell_type": "markdown",
   "id": "f88408a5",
   "metadata": {},
   "source": [
    "# Questions\n",
    "\n",
    "1. Write a Python Program to Add Two Matrices?\n",
    "2. Write a Python Program to Multiply Two Matrices?\n",
    "3. Write a Python Program to Transpose a Matrix?\n",
    "4. Write a Python Program to Sort Words in Alphabetic Order?\n",
    "5. Write a Python Program to Remove Punctuation From a String?"
   ]
  },
  {
   "cell_type": "code",
   "execution_count": 4,
   "id": "16efc9bf",
   "metadata": {},
   "outputs": [
    {
     "data": {
      "text/plain": [
       "array([[ 6,  8, 10],\n",
       "       [10, 10, 10]])"
      ]
     },
     "execution_count": 4,
     "metadata": {},
     "output_type": "execute_result"
    }
   ],
   "source": [
    "#1 Write a Python Program to Add Two Matrices?\n",
    "\n",
    "import numpy as np\n",
    "\n",
    "a1=np.array([[2,3,4],[5,4,3]])\n",
    "a2=np.array([[4,5,6],[5,6,7]])\n",
    "\n",
    "a3=a1+a2\n",
    "a3"
   ]
  },
  {
   "cell_type": "code",
   "execution_count": 18,
   "id": "a16a777e",
   "metadata": {},
   "outputs": [
    {
     "data": {
      "text/plain": [
       "array([[47, 56, 65],\n",
       "       [58, 70, 82]])"
      ]
     },
     "execution_count": 18,
     "metadata": {},
     "output_type": "execute_result"
    }
   ],
   "source": [
    "#2 Write a Python Program to Multiply Two Matrices?\n",
    "a3=np.array([[2,3,4],[5,4,3]])\n",
    "a4=np.array([[4,5,6],[5,6,7],[6,7,8]])\n",
    "\n",
    "a5=a3@a4\n",
    "a5"
   ]
  },
  {
   "cell_type": "code",
   "execution_count": 29,
   "id": "8dd88fe7",
   "metadata": {},
   "outputs": [
    {
     "name": "stdout",
     "output_type": "stream",
     "text": [
      "Before Transpose \n",
      "[[ 4  5  6]\n",
      " [99  6  0]\n",
      " [67 98 43]]\n",
      "After Transpose \n",
      "[[ 4 99 67]\n",
      " [ 5  6 98]\n",
      " [ 6  0 43]]\n"
     ]
    }
   ],
   "source": [
    "#3 Write a Python Program to Transpose a Matrix?\n",
    "a6=np.array([[4,5,6],[99,6,0],[67,98,43]])\n",
    "\n",
    "a7=np.transpose(a6)\n",
    "print(f\"Before Transpose \\n{a6}\")\n",
    "print(f\"After Transpose \\n{a7}\")\n",
    "\n",
    "\n"
   ]
  },
  {
   "cell_type": "code",
   "execution_count": 2,
   "id": "a44dda77",
   "metadata": {},
   "outputs": [
    {
     "name": "stdout",
     "output_type": "stream",
     "text": [
      "Enter the string:\n",
      "tanmay is a good boy\n",
      "String after arranging in alphabetical order:\n",
      "\n",
      "a boy good is tanmay \n"
     ]
    }
   ],
   "source": [
    "#4 Write a Python Program to Sort Words in Alphabetic Order?\n",
    "\n",
    "a=input(\"Enter the string:\\n\")\n",
    "l=[]\n",
    "l=a.split(' ')\n",
    "b=sorted(l)\n",
    "alphabetical_order=''\n",
    "for i in b:\n",
    "    alphabetical_order=alphabetical_order+i+' '\n",
    "    \n",
    "print(\"String after arranging in alphabetical order:\\n\")    \n",
    "print(alphabetical_order)\n",
    "    \n"
   ]
  },
  {
   "cell_type": "code",
   "execution_count": 16,
   "id": "2897e341",
   "metadata": {},
   "outputs": [
    {
     "name": "stdout",
     "output_type": "stream",
     "text": [
      "Enter a string with puncuations:\n",
      "Tanmay,ali*bhalu(kaifi > are valo players.\n",
      "New string without punctuation is: Tanmay ali bhalu kaifi   are valo players \n"
     ]
    }
   ],
   "source": [
    "#5 Write a Python Program to Remove Punctuation From a String?\n",
    "a=input(\"Enter a string with puncuations:\\n\")\n",
    "New_string=\"\"\n",
    "\n",
    "for i in a:\n",
    "    if i.isalpha()==True:\n",
    "        New_string=New_string+i\n",
    "    else:\n",
    "        New_string=New_string+\" \"\n",
    "        \n",
    "print(f\"New string without punctuation is: {New_string}\")\n",
    "        "
   ]
  }
 ],
 "metadata": {
  "kernelspec": {
   "display_name": "Python 3 (ipykernel)",
   "language": "python",
   "name": "python3"
  },
  "language_info": {
   "codemirror_mode": {
    "name": "ipython",
    "version": 3
   },
   "file_extension": ".py",
   "mimetype": "text/x-python",
   "name": "python",
   "nbconvert_exporter": "python",
   "pygments_lexer": "ipython3",
   "version": "3.9.12"
  }
 },
 "nbformat": 4,
 "nbformat_minor": 5
}
