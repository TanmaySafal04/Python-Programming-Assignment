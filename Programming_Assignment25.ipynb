{
 "cells": [
  {
   "cell_type": "markdown",
   "id": "5a538769",
   "metadata": {},
   "source": [
    "Question1\n",
    "Create a function that takes three integer arguments (a, b, c) and returns the amount of\n",
    "integers which are of equal value.\n",
    "Examples\n",
    "equal(3, 4, 3) ➞ 2\n",
    "equal(1, 1, 1) ➞ 3\n",
    "equal(3, 4, 1) ➞ 0\n",
    "Notes\n",
    "Your function must return 0, 2 or 3.\n",
    "\n",
    "Question2\n",
    "Write a function that converts a dictionary into a list of keys-values tuples.\n",
    "Examples\n",
    "dict_to_list({\n",
    "&quot;D&quot;: 1,\n",
    "&quot;B&quot;: 2,\n",
    "&quot;C&quot;: 3\n",
    "}) ➞ [(&quot;B&quot;, 2), (&quot;C&quot;, 3), (&quot;D&quot;, 1)]\n",
    "dict_to_list({\n",
    "&quot;likes&quot;: 2,\n",
    "&quot;dislikes&quot;: 3,\n",
    "&quot;followers&quot;: 10\n",
    "}) ➞ [(&quot;dislikes&quot;, 3), (&quot;followers&quot;, 10), (&quot;likes&quot;, 2)]\n",
    "Notes\n",
    "Return the elements in the list in alphabetical order.\n",
    "\n",
    "Question3\n",
    "Write a function that creates a dictionary with each (key, value) pair being the (lower case,\n",
    "upper case) versions of a letter, respectively.\n",
    "Examples\n",
    "mapping([&quot;p&quot;, &quot;s&quot;]) ➞ { &quot;p&quot;: &quot;P&quot;, &quot;s&quot;: &quot;S&quot; }\n",
    "\n",
    "mapping([&quot;a&quot;, &quot;b&quot;, &quot;c&quot;]) ➞ { &quot;a&quot;: &quot;A&quot;, &quot;b&quot;: &quot;B&quot;, &quot;c&quot;: &quot;C&quot; }\n",
    "mapping([&quot;a&quot;, &quot;v&quot;, &quot;y&quot;, &quot;z&quot;]) ➞ { &quot;a&quot;: &quot;A&quot;, &quot;v&quot;: &quot;V&quot;, &quot;y&quot;: &quot;Y&quot;, &quot;z&quot;: &quot;Z&quot; }\n",
    "Notes\n",
    "All of the letters in the input list will always be lowercase.\n",
    "\n",
    "Question4\n",
    "Write a function, that replaces all vowels in a string with a specified vowel.\n",
    "Examples\n",
    "vow_replace(&quot;apples and bananas&quot;, &quot;u&quot;) ➞ &quot;upplus und bununus&quot;\n",
    "vow_replace(&quot;cheese casserole&quot;, &quot;o&quot;) ➞ &quot;chooso cossorolo&quot;\n",
    "vow_replace(&quot;stuffed jalapeno poppers&quot;, &quot;e&quot;) ➞ &quot;steffed jelepene peppers&quot;\n",
    "Notes\n",
    "All words will be lowercase. Y is not considered a vowel.\n",
    "\n",
    "Question5\n",
    "Create a function that takes a string as input and capitalizes a letter if its ASCII code is even\n",
    "and returns its lower case version if its ASCII code is odd.\n",
    "Examples\n",
    "ascii_capitalize(&quot;to be or not to be!&quot;) ➞ &quot;To Be oR NoT To Be!&quot;\n",
    "ascii_capitalize(&quot;THE LITTLE MERMAID&quot;) ➞ &quot;THe LiTTLe meRmaiD&quot;\n",
    "ascii_capitalize(&quot;Oh what a beautiful morning.&quot;) ➞ &quot;oH wHaT a BeauTiFuL\n",
    "moRNiNg.&quot;"
   ]
  },
  {
   "cell_type": "markdown",
   "id": "949dd89d",
   "metadata": {},
   "source": [
    "# Solutions"
   ]
  },
  {
   "cell_type": "markdown",
   "id": "b4136bde",
   "metadata": {},
   "source": [
    "Question1 Create a function that takes three integer arguments (a, b, c) and returns the amount of integers which are of equal value. Examples equal(3, 4, 3) ➞ 2 equal(1, 1, 1) ➞ 3 equal(3, 4, 1) ➞ 0 Notes Your function must return 0, 2 or 3."
   ]
  },
  {
   "cell_type": "code",
   "execution_count": 3,
   "id": "7a3de6c1",
   "metadata": {},
   "outputs": [
    {
     "name": "stdout",
     "output_type": "stream",
     "text": [
      "3\n",
      "2\n",
      "0\n"
     ]
    }
   ],
   "source": [
    "#1\n",
    "def equal(a,b,c):\n",
    "    if a==b and a==c:\n",
    "        return 3\n",
    "    elif a==b or a==c or b==c:\n",
    "        return 2\n",
    "    else:\n",
    "        return 0\n",
    "    \n",
    "print(equal(1,1,1))\n",
    "print(equal(3,4,3))\n",
    "print(equal(3,4,1))"
   ]
  },
  {
   "cell_type": "markdown",
   "id": "156f51db",
   "metadata": {},
   "source": [
    "Question2 Write a function that converts a dictionary into a list of keys-values tuples. Examples dict_to_list({ \"D\": 1, \"B\": 2, \"C\": 3 }) ➞ [(\"B\", 2), (\"C\", 3), (\"D\", 1)] dict_to_list({ \"likes\": 2, \"dislikes\": 3, \"followers\": 10 }) ➞ [(\"dislikes\", 3), (\"followers\", 10), (\"likes\", 2)] Notes Return the elements in the list in alphabetical order"
   ]
  },
  {
   "cell_type": "code",
   "execution_count": 8,
   "id": "b2bb6850",
   "metadata": {},
   "outputs": [
    {
     "data": {
      "text/plain": [
       "[('D', 1), ('B', 2), ('C', 3)]"
      ]
     },
     "execution_count": 8,
     "metadata": {},
     "output_type": "execute_result"
    }
   ],
   "source": [
    "#2\n",
    "def dict_to_list(d):\n",
    "    l=[]\n",
    "    \n",
    "    for i in d:\n",
    "        t=()\n",
    "        t=t+(i,)+(d[i],)\n",
    "       # t=append(d[i],)\n",
    "        l.append(t)\n",
    "    return l\n",
    "\n",
    "dict_to_list({ \"D\": 1, \"B\": 2, \"C\": 3 })\n",
    "    "
   ]
  },
  {
   "cell_type": "markdown",
   "id": "6ed46586",
   "metadata": {},
   "source": [
    "Question3 Write a function that creates a dictionary with each (key, value) pair being the (lower case, upper case) versions of a letter, respectively. Examples mapping([\"p\", \"s\"]) ➞ { \"p\": \"P\", \"s\": \"S\" }\n",
    "\n",
    "mapping([\"a\", \"b\", \"c\"]) ➞ { \"a\": \"A\", \"b\": \"B\", \"c\": \"C\" } mapping([\"a\", \"v\", \"y\", \"z\"]) ➞ { \"a\": \"A\", \"v\": \"V\", \"y\": \"Y\", \"z\": \"Z\" } Notes All of the letters in the input list will always be lowercase."
   ]
  },
  {
   "cell_type": "code",
   "execution_count": 34,
   "id": "2442ba83",
   "metadata": {},
   "outputs": [
    {
     "name": "stdout",
     "output_type": "stream",
     "text": [
      "{'a': 'A', 'b': 'B', 'c': 'C'}\n"
     ]
    }
   ],
   "source": [
    "#3\n",
    "def mapping(l):\n",
    "    d={}\n",
    "    for i in l:\n",
    "        d[i]=i.upper()\n",
    "    return d\n",
    "\n",
    "print(mapping([\"a\", \"b\", \"c\"]))\n",
    "    "
   ]
  },
  {
   "cell_type": "markdown",
   "id": "0eaffca3",
   "metadata": {},
   "source": [
    "Question4 Write a function, that replaces all vowels in a string with a specified vowel. Examples vow_replace(\"apples and bananas\", \"u\") ➞ \"upplus und bununus\" vow_replace(\"cheese casserole\", \"o\") ➞ \"chooso cossorolo\" vow_replace(\"stuffed jalapeno poppers\", \"e\") ➞ \"steffed jelepene peppers\" Notes All words will be lowercase. Y is not considered a vowel."
   ]
  },
  {
   "cell_type": "code",
   "execution_count": 14,
   "id": "6fa08573",
   "metadata": {},
   "outputs": [
    {
     "name": "stdout",
     "output_type": "stream",
     "text": [
      "upplus und bununus\n"
     ]
    }
   ],
   "source": [
    "#4\n",
    "def vow_replace(word,vowel):\n",
    "    l=['a','e','i','o','u']\n",
    "    s=\"\"\n",
    "    for i in word:\n",
    "        if i in l:\n",
    "            s=s+vowel         \n",
    "        else:\n",
    "            s=s+i\n",
    "    return s\n",
    "        \n",
    "print(vow_replace(\"apples and bananas\", \"u\"))"
   ]
  },
  {
   "cell_type": "markdown",
   "id": "f9184251",
   "metadata": {},
   "source": [
    "Question5 Create a function that takes a string as input and capitalizes a letter if its ASCII code is even and returns its lower case version if its ASCII code is odd. Examples ascii_capitalize(\"to be or not to be!\") ➞ \"To Be oR NoT To Be!\" ascii_capitalize(\"THE LITTLE MERMAID\") ➞ \"THe LiTTLe meRmaiD\" ascii_capitalize(\"Oh what a beautiful morning.\") ➞ \"oH wHaT a BeauTiFuL moRNiNg."
   ]
  },
  {
   "cell_type": "code",
   "execution_count": 24,
   "id": "73ae7bb0",
   "metadata": {},
   "outputs": [
    {
     "name": "stdout",
     "output_type": "stream",
     "text": [
      "THe LiTTLe meRmaiD\n"
     ]
    }
   ],
   "source": [
    "#5 \n",
    "def ascii_capitalize(s):\n",
    "    new=\"\"\n",
    "    for i in s:\n",
    "        if ord(i)%2==0:\n",
    "            new=new+i.upper()\n",
    "        else:\n",
    "            new=new+i.lower()\n",
    "            \n",
    "    return new\n",
    "        \n",
    "print(ascii_capitalize(\"THE LITTLE MERMAID\"))"
   ]
  }
 ],
 "metadata": {
  "kernelspec": {
   "display_name": "Python 3 (ipykernel)",
   "language": "python",
   "name": "python3"
  },
  "language_info": {
   "codemirror_mode": {
    "name": "ipython",
    "version": 3
   },
   "file_extension": ".py",
   "mimetype": "text/x-python",
   "name": "python",
   "nbconvert_exporter": "python",
   "pygments_lexer": "ipython3",
   "version": "3.9.12"
  }
 },
 "nbformat": 4,
 "nbformat_minor": 5
}
