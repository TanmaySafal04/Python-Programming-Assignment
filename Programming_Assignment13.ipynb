{
 "cells": [
  {
   "cell_type": "markdown",
   "id": "b3cf95ce",
   "metadata": {},
   "source": [
    "# Solutions:\n"
   ]
  },
  {
   "cell_type": "markdown",
   "id": "262c9dd9",
   "metadata": {},
   "source": [
    "Question 1: Write a program that calculates and prints the value according to the given formula: Q = Square root of [(2 * C * D)/H] Following are the fixed values of C and H: C is 50. H is 30. D is the variable whose values should be input to your program in a comma-separated sequence. Example Let us assume the following comma separated input sequence is given to the program: 100,150,180 The output of the program should be: 18,22,24"
   ]
  },
  {
   "cell_type": "code",
   "execution_count": 20,
   "id": "a051a13e",
   "metadata": {},
   "outputs": [
    {
     "name": "stdout",
     "output_type": "stream",
     "text": [
      "Enter the input as mentioned in the question: \n",
      "100,150,180\n",
      "18,22,24\n"
     ]
    }
   ],
   "source": [
    "#1\n",
    "c=50\n",
    "h=30\n",
    "f=1\n",
    "string=\"\"\n",
    "s=input(\"Enter the input as mentioned in the question: \\n\")\n",
    "l=list(s.split(','))\n",
    "for d in l:\n",
    "    s1=int(((2*c*int(d)/h)**0.5))\n",
    "    string=string+str(s1)\n",
    "    \n",
    "    if f<len(l):\n",
    "        string=string+','\n",
    "        f=f+1\n",
    "    else:\n",
    "        break;\n",
    "        \n",
    "print(string)\n",
    "        \n",
    "\n"
   ]
  },
  {
   "cell_type": "markdown",
   "id": "158d7d0f",
   "metadata": {},
   "source": [
    "Question 2: Write a program which takes 2 digits, X,Y as input and generates a 2-dimensional array. The element value in the i-th row and j-th column of the array should be i*j. Note: i=0,1.., X-1; j=0,1,¡Y-1. Example Suppose the following inputs are given to the program: 3,5 Then, the output of the program should be: [[0, 0, 0, 0, 0], [0, 1, 2, 3, 4], [0, 2, 4, 6, 8]]"
   ]
  },
  {
   "cell_type": "code",
   "execution_count": 39,
   "id": "2793d270",
   "metadata": {},
   "outputs": [
    {
     "name": "stdout",
     "output_type": "stream",
     "text": [
      "Enter X: 3\n",
      "Enter Y: 5\n",
      "[[0. 0. 0. 0. 0.]\n",
      " [0. 1. 2. 3. 4.]\n",
      " [0. 2. 4. 6. 8.]]\n"
     ]
    }
   ],
   "source": [
    "#2 \n",
    "import numpy as np\n",
    "\n",
    "x=int(input(\"Enter X: \"))\n",
    "y=int(input(\"Enter Y: \"))\n",
    "matrix=np.zeros((x,y))\n",
    "\n",
    "for i in range(x):\n",
    "    for j in range(0,y):\n",
    "        matrix[i][j]=i*j\n",
    "        \n",
    "print(matrix)\n",
    "        \n",
    "        "
   ]
  },
  {
   "cell_type": "markdown",
   "id": "7f6e3f2a",
   "metadata": {},
   "source": [
    "Question 3: Write a program that accepts a comma separated sequence of words as input and prints the words in a comma-separated sequence after sorting them alphabetically. Suppose the following input is supplied to the program: without,hello,bag,world Then, the output should be: bag,hello,without,world"
   ]
  },
  {
   "cell_type": "code",
   "execution_count": 52,
   "id": "3f6a7fb4",
   "metadata": {},
   "outputs": [
    {
     "name": "stdout",
     "output_type": "stream",
     "text": [
      "Enter the string as mentioned in the question: \n",
      "without,hello,bag,world\n",
      "OUTPUT: \n",
      "bag,hello,without,world\n"
     ]
    }
   ],
   "source": [
    "#3 \n",
    "s=input(\"Enter the string as mentioned in the question: \\n\")\n",
    "l=list(s.split(','))\n",
    "string=''\n",
    "f=1\n",
    "for i in sorted(l):\n",
    "    string=string+i\n",
    "    if f<len(l):\n",
    "        string=string+','\n",
    "        f=f+1\n",
    "    else:\n",
    "        break\n",
    "print(\"OUTPUT: \")        \n",
    "print(string)\n",
    "    \n",
    "    \n"
   ]
  },
  {
   "cell_type": "markdown",
   "id": "f1db339c",
   "metadata": {},
   "source": [
    "Question 4: Write a program that accepts a sequence of whitespace separated words as input and prints the words after removing all duplicate words and sorting them alphanumerically. Suppose the following input is supplied to the program: hello world and practice makes perfect and hello world again Then, the output should be: again and hello makes perfect practice world"
   ]
  },
  {
   "cell_type": "code",
   "execution_count": 72,
   "id": "c70b36b1",
   "metadata": {},
   "outputs": [
    {
     "name": "stdout",
     "output_type": "stream",
     "text": [
      "Enter the string: hello world and practice makes perfect and hello world again\n",
      "\n",
      "again and hello makes perfect practice world \n"
     ]
    }
   ],
   "source": [
    "#4\n",
    "s=input(\"Enter the string: \")\n",
    "l=list(s.split(' '))\n",
    "s2=set(l)\n",
    "\n",
    "s1=\"\"\n",
    "for i in sorted(s2):\n",
    "    s1=s1+i+' '\n",
    "\n",
    "print()\n",
    "print(s1)\n"
   ]
  },
  {
   "cell_type": "markdown",
   "id": "6e2b7f9d",
   "metadata": {},
   "source": [
    "Question 5: Write a program that accepts a sentence and calculate the number of letters and digits. Suppose the following input is supplied to the program: hello world! 123 Then, the output should be: LETTERS 10"
   ]
  },
  {
   "cell_type": "code",
   "execution_count": 74,
   "id": "817cefa9",
   "metadata": {},
   "outputs": [
    {
     "name": "stdout",
     "output_type": "stream",
     "text": [
      "Enter string: hello world! 123\n",
      "LETTERS: 10 \n",
      "\n",
      "DIGITS: 3\n"
     ]
    }
   ],
   "source": [
    "#5\n",
    "s=input(\"Enter string: \")\n",
    "l,d=0,0\n",
    "for i in s:\n",
    "    if i.isdigit():\n",
    "        d=d+1\n",
    "    elif i.isalpha():\n",
    "        l=l+1\n",
    "    else:\n",
    "        pass\n",
    "    \n",
    "print(f\"LETTERS: {l} \\n\")\n",
    "\n",
    "print(f\"DIGITS: {d}\")\n"
   ]
  },
  {
   "cell_type": "markdown",
   "id": "ca535a60",
   "metadata": {},
   "source": [
    "Question 6: A website requires the users to input username and password to register. Write a program to check the validity of password input by users. Following are the criteria for checking the password:\n",
    "\n",
    "At least 1 letter between [a-z]\n",
    "At least 1 number between [0-9]\n",
    "At least 1 letter between [A-Z]\n",
    "At least 1 character from [$#@]\n",
    "Minimum length of transaction password: 6\n",
    "Maximum length of transaction password: 12 Your program should accept a sequence of comma separated passwords and will check them according to the above criteria. Passwords that match the criteria are to be printed, each separated by a comma. Example If the following passwords are given as input to the program: ABd1234@1,a F1#,2w3E*,2We3345 Then, the output of the program should be: ABd1234@1"
   ]
  },
  {
   "cell_type": "code",
   "execution_count": 20,
   "id": "35362785",
   "metadata": {},
   "outputs": [
    {
     "name": "stdout",
     "output_type": "stream",
     "text": [
      "Enter your passwords: ABd1234@1,a F1#,2w3E*,2We3345\n",
      "ABd1234@1 \n"
     ]
    }
   ],
   "source": [
    "#6\n",
    "pw=input(\"Enter your passwords: \")\n",
    "pw1=list(pw.split(','))\n",
    "c1=0\n",
    "c2=0\n",
    "c3=0\n",
    "c4=0\n",
    "c5=0\n",
    "sp_ch=['$','#','@']\n",
    "for j in pw1:\n",
    "    c1=0\n",
    "    c2=0\n",
    "    c3=0\n",
    "    c4=0\n",
    "    c5=0\n",
    "    for i in j:\n",
    "        if (i.isupper() and i.isalpha()):\n",
    "            c1=c1+1\n",
    "        if (i.islower() and i.isalpha()):\n",
    "              c2=c2+1\n",
    "        if (i.isnumeric()):\n",
    "            c3=c3+1\n",
    "        if(i in sp_ch):\n",
    "            c4=c4+1\n",
    "        if(len(j)>=6 and len(j)<=12):\n",
    "            c5=c5+1\n",
    "        else:\n",
    "            pass\n",
    "    if(c1>0 and c2>0 and c3>0 and c4>0 and c5>0):\n",
    "        print(j+\" \")\n",
    "    else:\n",
    "        c1=0\n",
    "        c2=0\n",
    "        c3=0\n",
    "        c4=0\n",
    "        c5=0\n",
    "    \n",
    "    \n",
    "\n",
    "\n"
   ]
  }
 ],
 "metadata": {
  "kernelspec": {
   "display_name": "Python 3 (ipykernel)",
   "language": "python",
   "name": "python3"
  },
  "language_info": {
   "codemirror_mode": {
    "name": "ipython",
    "version": 3
   },
   "file_extension": ".py",
   "mimetype": "text/x-python",
   "name": "python",
   "nbconvert_exporter": "python",
   "pygments_lexer": "ipython3",
   "version": "3.9.12"
  }
 },
 "nbformat": 4,
 "nbformat_minor": 5
}
