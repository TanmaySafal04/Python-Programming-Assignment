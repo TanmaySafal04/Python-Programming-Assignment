{
 "cells": [
  {
   "cell_type": "markdown",
   "id": "057d4e8d",
   "metadata": {},
   "source": [
    "# Questions\n",
    "1. Write a Python Program to Find the Factorial of a Number?\n",
    "2. Write a Python Program to Display the multiplication Table?\n",
    "3. Write a Python Program to Print the Fibonacci sequence?\n",
    "4. Write a Python Program to Check Armstrong Number?\n",
    "5. Write a Python Program to Find Armstrong Number in an Interval?\n",
    "6. Write a Python Program to Find the Sum of Natural Numbers?\n"
   ]
  },
  {
   "cell_type": "markdown",
   "id": "c79d8b5c",
   "metadata": {},
   "source": [
    "# Solutions\n"
   ]
  },
  {
   "cell_type": "code",
   "execution_count": 2,
   "id": "a2c09775",
   "metadata": {},
   "outputs": [
    {
     "name": "stdout",
     "output_type": "stream",
     "text": [
      "Enter a number: 6\n",
      "The factorial of 6 is: 720\n"
     ]
    }
   ],
   "source": [
    "#1 Write a Python Program to Find the Factorial of a Number?\n",
    "a=int(input(\"Enter a number: \"))\n",
    "f=1\n",
    "\n",
    "for i in range(1,a+1):\n",
    "    f=f*i\n",
    "        \n",
    "print(f\"The factorial of {a} is: {f}\")"
   ]
  },
  {
   "cell_type": "code",
   "execution_count": 3,
   "id": "156de835",
   "metadata": {},
   "outputs": [
    {
     "name": "stdout",
     "output_type": "stream",
     "text": [
      "Enter a number: 5\n",
      "5 * 1 = 5\n",
      "5 * 2 = 10\n",
      "5 * 3 = 15\n",
      "5 * 4 = 20\n",
      "5 * 5 = 25\n",
      "5 * 6 = 30\n",
      "5 * 7 = 35\n",
      "5 * 8 = 40\n",
      "5 * 9 = 45\n",
      "5 * 10 = 50\n"
     ]
    }
   ],
   "source": [
    "#2 Write a Python Program to Display the multiplication Table?\n",
    "a=int(input(\"Enter a number: \"))\n",
    "for i in range(1,11):\n",
    "    print(f\"{a} * {i} = {a*i}\")\n"
   ]
  },
  {
   "cell_type": "code",
   "execution_count": 20,
   "id": "a4fafd6a",
   "metadata": {},
   "outputs": [
    {
     "name": "stdout",
     "output_type": "stream",
     "text": [
      "Enter the no. of terms of Fibonacci series: 10\n",
      "0\n",
      "1\n",
      "1\n",
      "2\n",
      "3\n",
      "5\n",
      "8\n",
      "13\n",
      "21\n",
      "34\n"
     ]
    }
   ],
   "source": [
    "#3 Write a Python Program to Print the Fibonacci sequence?\n",
    "n=int(input(\"Enter the no. of terms of Fibonacci series: \"))\n",
    "a,b=0,1\n",
    "print(a)\n",
    "\n",
    "if n>2:\n",
    "    for i in range (n-1):\n",
    "        c=a+b\n",
    "        print(b)\n",
    "        a=b\n",
    "        b=c\n",
    "else:\n",
    "    pass\n",
    "    \n",
    "        \n"
   ]
  },
  {
   "cell_type": "code",
   "execution_count": 31,
   "id": "8c52c7c2",
   "metadata": {},
   "outputs": [
    {
     "name": "stdout",
     "output_type": "stream",
     "text": [
      "Enter a number: 407\n",
      "407 is an Armstrong no.\n"
     ]
    }
   ],
   "source": [
    "#4 Write a Python Program to Check Armstrong Number?\n",
    "# Armstrong number is a number that is equal to the sum of cubes of its digits.\n",
    "# For example 0, 1, 153, 370, 371 and 407 are the Armstrong numbers.\n",
    "\n",
    "a=int(input(\"Enter a number: \"))\n",
    "temp=a\n",
    "c=0\n",
    "while(a>0):\n",
    "    b=a%10\n",
    "    c=c+(b**3)\n",
    "    a=a/10\n",
    "    a=int(a)\n",
    "    \n",
    "if(c==temp):\n",
    "    print(f\"{temp} is an Armstrong no.\")\n",
    "else:\n",
    "    print(f\"{temp} is not an Armstrong no.\")\n",
    "    "
   ]
  },
  {
   "cell_type": "code",
   "execution_count": 40,
   "id": "e75ad36d",
   "metadata": {},
   "outputs": [
    {
     "name": "stdout",
     "output_type": "stream",
     "text": [
      "Enter lower limit of range 1\n",
      "Enter upper limit of range 500\n",
      "\n",
      "\n",
      "1 is an Armstrong no.\n",
      "153 is an Armstrong no.\n",
      "370 is an Armstrong no.\n",
      "371 is an Armstrong no.\n",
      "407 is an Armstrong no.\n"
     ]
    }
   ],
   "source": [
    "#5 Write a Python Program to Find Armstrong Number in an Interval?\n",
    "\n",
    "r1=int(input(\"Enter lower limit of range \"))\n",
    "r2=int(input(\"Enter upper limit of range \"))\n",
    "print(\"\\n\")\n",
    "for a in range(r1,r2):\n",
    "        temp=a\n",
    "        c=0\n",
    "        while(a>0):\n",
    "            b=a%10\n",
    "            c=c+(b**3)\n",
    "            a=a/10\n",
    "            a=int(a)\n",
    "        \n",
    "        if(c==temp):\n",
    "            c=0\n",
    "            print(f\"{temp} is an Armstrong no.\")\n",
    "        else:\n",
    "            c=0\n",
    "            pass\n",
    "    \n"
   ]
  },
  {
   "cell_type": "code",
   "execution_count": 43,
   "id": "52c58a9e",
   "metadata": {},
   "outputs": [
    {
     "name": "stdout",
     "output_type": "stream",
     "text": [
      "Enter the no. till which you want the sum:\n",
      " 10\n",
      "The sum of 10 natural numbers is: 55\n"
     ]
    }
   ],
   "source": [
    "#6 Write a Python Program to Find the Sum of Natural Numbers?\n",
    "n=int(input(\"Enter the no. till which you want the sum:\\n \"))\n",
    "sum=0\n",
    "for i in range(n+1):\n",
    "    sum=sum+i\n",
    "    \n",
    "print(f\"The sum of {n} natural numbers is: {sum}\")\n",
    "    "
   ]
  },
  {
   "cell_type": "code",
   "execution_count": null,
   "id": "89f8fa45",
   "metadata": {},
   "outputs": [],
   "source": []
  }
 ],
 "metadata": {
  "kernelspec": {
   "display_name": "Python 3 (ipykernel)",
   "language": "python",
   "name": "python3"
  },
  "language_info": {
   "codemirror_mode": {
    "name": "ipython",
    "version": 3
   },
   "file_extension": ".py",
   "mimetype": "text/x-python",
   "name": "python",
   "nbconvert_exporter": "python",
   "pygments_lexer": "ipython3",
   "version": "3.9.12"
  }
 },
 "nbformat": 4,
 "nbformat_minor": 5
}
