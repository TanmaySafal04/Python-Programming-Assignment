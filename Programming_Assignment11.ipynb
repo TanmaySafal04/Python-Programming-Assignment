{
 "cells": [
  {
   "cell_type": "markdown",
   "id": "13f03786",
   "metadata": {},
   "source": [
    "# Questions\n",
    "1. Write a Python program to find words which are greater than given length k?\n",
    "2. Write a Python program for removing i-th character from a string?\n",
    "3. Write a Python program to split and join a string?\n",
    "4. Write a Python to check if a given string is binary string or not?\n",
    "5. Write a Python program to find uncommon words from two Strings?\n",
    "6. Write a Python to find all duplicate characters in string?\n",
    "7. Write a Python Program to check if a string contains any special character?"
   ]
  },
  {
   "cell_type": "code",
   "execution_count": 3,
   "id": "9ff398b7",
   "metadata": {},
   "outputs": [
    {
     "name": "stdout",
     "output_type": "stream",
     "text": [
      "Enter the string: my name is Minato Namikaze. They call me yellow flash of the leaf\n",
      "Enter a word: pain\n",
      "The words greater in length than the wordpain are: \n",
      "Minato  \n",
      "Namikaze.  \n",
      "yellow  \n",
      "flash  \n"
     ]
    }
   ],
   "source": [
    "#1 Write a Python program to find words which are greater than given length k?\n",
    "a=input(\"Enter the string: \")\n",
    "b=input(\"Enter a word: \")\n",
    "l=list(a.split(' '))\n",
    "print(f\"The words greater in length than the word{b} are: \")\n",
    "for i in l:\n",
    "    if len(i)>len(b):\n",
    "        print(i,' ')"
   ]
  },
  {
   "cell_type": "code",
   "execution_count": 3,
   "id": "62645bf9",
   "metadata": {},
   "outputs": [
    {
     "name": "stdout",
     "output_type": "stream",
     "text": [
      "Enter the string: my name is Minato Namikaze\n",
      "Enter the i-th character to be removed: 4\n",
      "my ame is Minato Namikaze\n"
     ]
    }
   ],
   "source": [
    "#2 Write a Python program for removing i-th character from a string?\n",
    "a=input(\"Enter the string: \")\n",
    "ith=int(input(\"Enter the i-th character to be removed: \"))\n",
    "a=list(a)\n",
    "del a[ith-1]\n",
    "b=\"\"\n",
    "for i in a:\n",
    "    b=b+i\n",
    "    \n",
    "print(b)\n",
    "    "
   ]
  },
  {
   "cell_type": "code",
   "execution_count": 9,
   "id": "1954b07b",
   "metadata": {},
   "outputs": [
    {
     "name": "stdout",
     "output_type": "stream",
     "text": [
      "Enter the string: my name is Minato Namikaze\n",
      "String after splitting:\n",
      "my  \n",
      "name  \n",
      "is  \n",
      "Minato  \n",
      "Namikaze  \n",
      "Enter the string to join: His famous jutsu is Flying Rajin\n",
      "String after joining is: my name is Minato Namikaze His famous jutsu is Flying Rajin\n"
     ]
    }
   ],
   "source": [
    "#3 Write a Python program to split and join a string?\n",
    "a=input(\"Enter the string: \")\n",
    "print(\"String after splitting:\")\n",
    "for i in a.split(' '):\n",
    "    print(i,\" \")\n",
    "    \n",
    "b=input(\"Enter the string to join: \")\n",
    "c=a+\" \"+b\n",
    "print( f\"String after joining is: {c}\")\n"
   ]
  },
  {
   "cell_type": "code",
   "execution_count": 24,
   "id": "93d5af5c",
   "metadata": {},
   "outputs": [
    {
     "name": "stdout",
     "output_type": "stream",
     "text": [
      "Enter a string: 1001010\n",
      "The string is a binary string\n"
     ]
    }
   ],
   "source": [
    "#4 Write a Python to check if a given string is binary string or not?\n",
    "a=input(\"Enter a string: \")\n",
    "c=0\n",
    "for i in a:\n",
    "    if i=='1' or i=='0':\n",
    "        pass\n",
    "    else:\n",
    "        c=c+1\n",
    "        \n",
    "if c>0:\n",
    "    print(\"The string is not a binary string\")\n",
    "else:\n",
    "    print(\"The string is a binary string\")\n",
    "        \n"
   ]
  },
  {
   "cell_type": "code",
   "execution_count": 7,
   "id": "e3e896b2",
   "metadata": {},
   "outputs": [
    {
     "name": "stdout",
     "output_type": "stream",
     "text": [
      "Enter 1st string: My name is Minato Namikaze\n",
      "Enter 2nd string: My name is Tanmay Safal and i am a consultant\n",
      "Uncommon words in two strings are: \n",
      "Minato  \n",
      "Namikaze  \n",
      "Tanmay  \n",
      "Safal  \n",
      "and  \n",
      "i  \n",
      "am  \n",
      "a  \n",
      "consultant  \n"
     ]
    }
   ],
   "source": [
    "#5 Write a Python program to find uncommon words from two Strings?\n",
    "a=input(\"Enter 1st string: \")\n",
    "b=input(\"Enter 2nd string: \")\n",
    "\n",
    "la=list(a.split(' '))\n",
    "lb=list(b.split(' '))\n",
    "\n",
    "print(\"Uncommon words in two strings are: \")\n",
    "\n",
    "for i in la:\n",
    "    if i in lb:\n",
    "        pass\n",
    "    else:\n",
    "        print(i,' ')\n",
    "\n",
    "        \n",
    "for i in lb:\n",
    "    if i in la:\n",
    "        pass\n",
    "    else:\n",
    "        print(i,' ')"
   ]
  },
  {
   "cell_type": "code",
   "execution_count": 20,
   "id": "3be43d7e",
   "metadata": {},
   "outputs": [
    {
     "name": "stdout",
     "output_type": "stream",
     "text": [
      "Enter a string: my name is tanmay\n",
      "Duplicate characters are: \n",
      "m \n",
      "y \n",
      "  \n",
      "n \n",
      "a \n",
      "m \n",
      "  \n",
      "s \n",
      "  \n",
      "a \n",
      "n \n",
      "m \n",
      "a \n",
      "y \n"
     ]
    }
   ],
   "source": [
    "#6 Write a Python to find all duplicate characters in string?\n",
    "a=input(\"Enter a string: \")\n",
    "print(\"Duplicate characters are: \")\n",
    "c=0\n",
    "for i in a:\n",
    "    for j in range(0,len(a)):\n",
    "        if i==a[j]:\n",
    "            c=c+1\n",
    "    if c>1:\n",
    "        print(i,'')\n",
    "        c=0\n",
    "    else:\n",
    "        pass"
   ]
  },
  {
   "cell_type": "code",
   "execution_count": 15,
   "id": "494713f4",
   "metadata": {},
   "outputs": [
    {
     "name": "stdout",
     "output_type": "stream",
     "text": [
      "Enter a string:\n",
      "tanmay is an oracle cpq #developer\n",
      "String contain special character\n"
     ]
    }
   ],
   "source": [
    "#7 Write a Python Program to check if a string contains any special character?\n",
    "a=input(\"Enter a string:\\n\")\n",
    "c=1\n",
    "for i in a:\n",
    "    if i.isalpha()==True or i==' ':\n",
    "        pass\n",
    "        \n",
    "    else:\n",
    "        c=c+1\n",
    "if c>1:\n",
    "    print(\"String contain special character\")\n",
    "else:\n",
    "    print(\"String doesn't contain special characters\")\n",
    "        "
   ]
  },
  {
   "cell_type": "code",
   "execution_count": null,
   "id": "023bc991",
   "metadata": {},
   "outputs": [],
   "source": []
  }
 ],
 "metadata": {
  "kernelspec": {
   "display_name": "Python 3 (ipykernel)",
   "language": "python",
   "name": "python3"
  },
  "language_info": {
   "codemirror_mode": {
    "name": "ipython",
    "version": 3
   },
   "file_extension": ".py",
   "mimetype": "text/x-python",
   "name": "python",
   "nbconvert_exporter": "python",
   "pygments_lexer": "ipython3",
   "version": "3.9.12"
  }
 },
 "nbformat": 4,
 "nbformat_minor": 5
}
