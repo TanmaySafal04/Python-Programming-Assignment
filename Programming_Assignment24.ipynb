{
 "cells": [
  {
   "cell_type": "markdown",
   "id": "ac6893a7",
   "metadata": {},
   "source": [
    "Question1\n",
    "Create a function that takes an integer and returns a list from 1 to the given number, where:\n",
    "1. If the number can be divided evenly by 4, amplify it by 10 (i.e. return 10 times the\n",
    "number).\n",
    "2. If the number cannot be divided evenly by 4, simply return the number.\n",
    "Examples\n",
    "amplify(4) ➞ [1, 2, 3, 40]\n",
    "amplify(3) ➞ [1, 2, 3]\n",
    "amplify(25) ➞ [1, 2, 3, 40, 5, 6, 7, 80, 9, 10, 11, 120, 13, 14, 15, 160,\n",
    "17, 18, 19, 200, 21, 22, 23, 240, 25]\n",
    "Notes\n",
    " The given integer will always be equal to or greater than 1.\n",
    " Include the number (see example above).\n",
    " To perform this problem with its intended purpose, try doing it with list\n",
    "comprehensions. If that&#39;s too difficult, just solve the challenge any way you can.\n",
    "\n",
    "Question2\n",
    "Create a function that takes a list of numbers and return the number that&#39;s unique.\n",
    "Examples\n",
    "unique([3, 3, 3, 7, 3, 3]) ➞ 7\n",
    "unique([0, 0, 0.77, 0, 0]) ➞ 0.77\n",
    "unique([0, 1, 1, 1, 1, 1, 1, 1]) ➞ 0\n",
    "Notes\n",
    "Test cases will always have exactly one unique number while all others are the same.\n",
    "\n",
    "Question3\n",
    "Your task is to create a Circle constructor that creates a circle with a radius provided by an\n",
    "argument. The circles constructed must have two getters getArea() (PIr^2) and\n",
    "getPerimeter() (2PI*r) which give both respective areas and perimeter (circumference).\n",
    "\n",
    "For help with this class, I have provided you with a Rectangle constructor which you can use\n",
    "as a base example.\n",
    "Examples\n",
    "circy = Circle(11)\n",
    "circy.getArea()\n",
    "# Should return 380.132711084365\n",
    "circy = Circle(4.44)\n",
    "circy.getPerimeter()\n",
    "# Should return 27.897342763877365\n",
    "Notes\n",
    "Round results up to the nearest integer.\n",
    "\n",
    "Question4\n",
    "Create a function that takes a list of strings and return a list, sorted from shortest to longest.\n",
    "Examples\n",
    "sort_by_length([&quot;Google&quot;, &quot;Apple&quot;, &quot;Microsoft&quot;])\n",
    "➞ [&quot;Apple&quot;, &quot;Google&quot;, &quot;Microsoft&quot;]\n",
    "sort_by_length([&quot;Leonardo&quot;, &quot;Michelangelo&quot;, &quot;Raphael&quot;, &quot;Donatello&quot;])\n",
    "➞ [&quot;Raphael&quot;, &quot;Leonardo&quot;, &quot;Donatello&quot;, &quot;Michelangelo&quot;]\n",
    "sort_by_length([&quot;Turing&quot;, &quot;Einstein&quot;, &quot;Jung&quot;])\n",
    "➞ [&quot;Jung&quot;, &quot;Turing&quot;, &quot;Einstein&quot;]\n",
    "Notes\n",
    "All test cases contain lists with strings of different lengths, so you won&#39;t have to deal with\n",
    "multiple strings of the same length.\n",
    "\n",
    "Question5\n",
    "Create a function that validates whether three given integers form a Pythagorean triplet. The\n",
    "sum of the squares of the two smallest integers must equal the square of the largest number to\n",
    "be validated.\n",
    "\n",
    "Examples\n",
    "is_triplet(3, 4, 5) ➞ True\n",
    "# 3² + 4² = 25\n",
    "# 5² = 25\n",
    "is_triplet(13, 5, 12) ➞ True\n",
    "# 5² + 12² = 169\n",
    "# 13² = 169\n",
    "is_triplet(1, 2, 3) ➞ False\n",
    "# 1² + 2² = 5\n",
    "# 3² = 9\n",
    "Notes\n",
    "Numbers may not be given in a sorted order."
   ]
  },
  {
   "cell_type": "markdown",
   "id": "ae4c7b4e",
   "metadata": {},
   "source": [
    "# Solutions"
   ]
  },
  {
   "cell_type": "markdown",
   "id": "6d64eee0",
   "metadata": {},
   "source": [
    "Question1 Create a function that takes an integer and returns a list from 1 to the given number, where:\n",
    "\n",
    "If the number can be divided evenly by 4, amplify it by 10 (i.e. return 10 times the number).\n",
    "If the number cannot be divided evenly by 4, simply return the number. Examples amplify(4) ➞ [1, 2, 3, 40] amplify(3) ➞ [1, 2, 3] amplify(25) ➞ [1, 2, 3, 40, 5, 6, 7, 80, 9, 10, 11, 120, 13, 14, 15, 160, 17, 18, 19, 200, 21, 22, 23, 240, 25] Notes  The given integer will always be equal to or greater than 1.  Include the number (see example above).  To perform this problem with its intended purpose, try doing it with list comprehensions. If that's too difficult, just solve the challenge any way you can."
   ]
  },
  {
   "cell_type": "code",
   "execution_count": 3,
   "id": "baf6bf99",
   "metadata": {},
   "outputs": [
    {
     "name": "stdout",
     "output_type": "stream",
     "text": [
      "[1, 2, 3, 40, 5, 6, 7, 80, 9, 10, 11, 120, 13, 14, 15, 160, 17, 18, 19, 200, 21, 22, 23, 240, 25]\n",
      "[1, 2, 3, 40]\n"
     ]
    }
   ],
   "source": [
    "#1\n",
    "def amplify(a):\n",
    "    l=[]\n",
    "    for i in range(1,a+1):\n",
    "        if i%4==0:\n",
    "            l.append(i*10)\n",
    "        else:\n",
    "            l.append(i)\n",
    "            \n",
    "    return l\n",
    "            \n",
    "print(amplify(25))\n",
    "print(amplify(4))"
   ]
  },
  {
   "cell_type": "markdown",
   "id": "686bf917",
   "metadata": {},
   "source": [
    "Question2 Create a function that takes a list of numbers and return the number that's unique. Examples unique([3, 3, 3, 7, 3, 3]) ➞ 7 unique([0, 0, 0.77, 0, 0]) ➞ 0.77 unique([0, 1, 1, 1, 1, 1, 1, 1]) ➞ 0 Notes Test cases will always have exactly one unique number while all others are the same."
   ]
  },
  {
   "cell_type": "code",
   "execution_count": 6,
   "id": "4a74e1bd",
   "metadata": {},
   "outputs": [
    {
     "name": "stdout",
     "output_type": "stream",
     "text": [
      "7\n",
      "0.77\n"
     ]
    }
   ],
   "source": [
    "#2\n",
    "def unique(l):\n",
    "    c=0\n",
    "    unq_val=0\n",
    "    for i in l:\n",
    "        c=0\n",
    "        for j in l:\n",
    "            if i==j:\n",
    "                c+=1\n",
    "        if c==1:\n",
    "            return i\n",
    "        else:\n",
    "            pass\n",
    "   \n",
    "    \n",
    "print(unique([3, 3, 3, 7, 3, 3]))\n",
    "print(unique([0, 0, 0.77, 0, 0]))"
   ]
  },
  {
   "cell_type": "markdown",
   "id": "038ca595",
   "metadata": {},
   "source": [
    "Question3 Your task is to create a Circle constructor that creates a circle with a radius provided by an argument. The circles constructed must have two getters getArea() (PIr^2) and getPerimeter() (2PI*r) which give both respective areas and perimeter (circumference).\n",
    "\n",
    "For help with this class, I have provided you with a Rectangle constructor which you can use as a base example. Examples circy = Circle(11) circy.getArea()\n",
    "\n",
    "Should return 380.132711084365\n",
    "circy = Circle(4.44) circy.getPerimeter()\n",
    "\n",
    "Should return 27.897342763877365\n",
    "Notes Round results up to the nearest integer."
   ]
  },
  {
   "cell_type": "code",
   "execution_count": 15,
   "id": "fdadf696",
   "metadata": {},
   "outputs": [
    {
     "name": "stdout",
     "output_type": "stream",
     "text": [
      "379.94\n",
      "27.883200000000002\n"
     ]
    }
   ],
   "source": [
    "#3\n",
    "class Circle:\n",
    "    \n",
    "    def __init__(self,radius):\n",
    "        self.rad=radius\n",
    "                \n",
    "    def getArea(self):\n",
    "        return (3.14*self.rad*self.rad)\n",
    "    \n",
    "    def getPerimeter(self):\n",
    "        return (2*3.14*self.rad)\n",
    "    \n",
    "obj=Circle(11)\n",
    "obj1=Circle(4.44)\n",
    "\n",
    "print(obj.getArea())\n",
    "print(obj1.getPerimeter())\n",
    "        "
   ]
  },
  {
   "cell_type": "markdown",
   "id": "e67e19e1",
   "metadata": {},
   "source": [
    "Question4 Create a function that takes a list of strings and return a list, sorted from shortest to longest. Examples sort_by_length([\"Google\", \"Apple\", \"Microsoft\"]) ➞ [\"Apple\", \"Google\", \"Microsoft\"] sort_by_length([\"Leonardo\", \"Michelangelo\", \"Raphael\", \"Donatello\"]) ➞ [\"Raphael\", \"Leonardo\", \"Donatello\", \"Michelangelo\"] sort_by_length([\"Turing\", \"Einstein\", \"Jung\"]) ➞ [\"Jung\", \"Turing\", \"Einstein\"] Notes All test cases contain lists with strings of different lengths, so you won't have to deal with multiple strings of the same length."
   ]
  },
  {
   "cell_type": "code",
   "execution_count": 22,
   "id": "2d46dc39",
   "metadata": {},
   "outputs": [
    {
     "name": "stdout",
     "output_type": "stream",
     "text": [
      "['Jung', 'Turing', 'Einstein']\n",
      "['Raphael', 'Leonardo', 'Donatello', 'Michelangelo']\n"
     ]
    }
   ],
   "source": [
    "#4\n",
    "def sort_by_length(l):\n",
    "    for i in range(len(l)-1):\n",
    "        \n",
    "        for j in range(len(l)-1-i):\n",
    "            \n",
    "            if len(l[j])>len(l[j+1]):\n",
    "                t=l[j]\n",
    "                l[j]=l[j+1]\n",
    "                l[j+1]=t\n",
    "            else:\n",
    "                pass\n",
    "    return l\n",
    "\n",
    "            \n",
    "print(sort_by_length([\"Turing\", \"Einstein\", \"Jung\"]))     \n",
    "\n",
    "print(sort_by_length([\"Raphael\", \"Leonardo\", \"Donatello\", \"Michelangelo\"]))     "
   ]
  },
  {
   "cell_type": "markdown",
   "id": "dd2095d5",
   "metadata": {},
   "source": [
    "Question5 Create a function that validates whether three given integers form a Pythagorean triplet. The sum of the squares of the two smallest integers must equal the square of the largest number to be validated.\n",
    "\n",
    "Examples is_triplet(3, 4, 5) ➞ True\n",
    "\n",
    "3² + 4² = 25\n",
    "5² = 25\n",
    "is_triplet(13, 5, 12) ➞ True\n",
    "\n",
    "5² + 12² = 169\n",
    "13² = 169\n",
    "is_triplet(1, 2, 3) ➞ False\n",
    "\n",
    "1² + 2² = 5\n",
    "3² = 9\n",
    "Notes Numbers may not be given in a sorted order."
   ]
  },
  {
   "cell_type": "code",
   "execution_count": 23,
   "id": "8d950b43",
   "metadata": {},
   "outputs": [
    {
     "name": "stdout",
     "output_type": "stream",
     "text": [
      "True\n",
      "False\n"
     ]
    }
   ],
   "source": [
    "#5\n",
    "def is_triplet(a,b,c):\n",
    "    l=sorted([a,b,c])\n",
    "    if (((l[0]**2+l[1]**2)==(l[2]**2))):\n",
    "        return True\n",
    "    else:\n",
    "        return False\n",
    "    \n",
    "print(is_triplet(13, 5, 12))\n",
    "print(is_triplet(1,2,3))\n",
    "    "
   ]
  },
  {
   "cell_type": "code",
   "execution_count": null,
   "id": "2a62e921",
   "metadata": {},
   "outputs": [],
   "source": []
  }
 ],
 "metadata": {
  "kernelspec": {
   "display_name": "Python 3 (ipykernel)",
   "language": "python",
   "name": "python3"
  },
  "language_info": {
   "codemirror_mode": {
    "name": "ipython",
    "version": 3
   },
   "file_extension": ".py",
   "mimetype": "text/x-python",
   "name": "python",
   "nbconvert_exporter": "python",
   "pygments_lexer": "ipython3",
   "version": "3.9.12"
  }
 },
 "nbformat": 4,
 "nbformat_minor": 5
}
