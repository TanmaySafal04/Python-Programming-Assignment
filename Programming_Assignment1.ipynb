{
 "cells": [
  {
   "cell_type": "markdown",
   "id": "65dbf9c2",
   "metadata": {},
   "source": [
    "# Questions\n",
    "1. Write a Python program to print &quot;Hello Python&quot;?\n",
    "2. Write a Python program to do arithmetical operations addition and division.?\n",
    "3. Write a Python program to find the area of a triangle?\n",
    "4. Write a Python program to swap two variables?\n",
    "5. Write a Python program to generate a random number?"
   ]
  },
  {
   "cell_type": "markdown",
   "id": "a2cdbc6f",
   "metadata": {},
   "source": [
    "# Solutions\n"
   ]
  },
  {
   "cell_type": "code",
   "execution_count": 1,
   "id": "571f636d",
   "metadata": {},
   "outputs": [
    {
     "name": "stdout",
     "output_type": "stream",
     "text": [
      "Hello Python\n"
     ]
    }
   ],
   "source": [
    "#1\n",
    "print(\"Hello Python\")"
   ]
  },
  {
   "cell_type": "code",
   "execution_count": 4,
   "id": "a26a735b",
   "metadata": {},
   "outputs": [
    {
     "name": "stdout",
     "output_type": "stream",
     "text": [
      "Enter 1st number 92\n",
      "Enter 2nd number 14\n",
      "Addition= 106\n",
      "Division= 6.571428571428571\n"
     ]
    }
   ],
   "source": [
    "#2\n",
    "a=int(input(\"Enter 1st number \"))\n",
    "b=int(input(\"Enter 2nd number \"))\n",
    "\n",
    "print(\"Addition=\",(a+b))\n",
    "print(\"Division=\",(a/b))\n"
   ]
  },
  {
   "cell_type": "code",
   "execution_count": 5,
   "id": "af85b5f6",
   "metadata": {},
   "outputs": [
    {
     "name": "stdout",
     "output_type": "stream",
     "text": [
      "Enter length of triangle4\n",
      "Enter breadth of triangle6\n",
      "area of triangle 12.0\n"
     ]
    }
   ],
   "source": [
    "#3\n",
    "l=int(input(\"Enter length of triangle \"))\n",
    "br=int(input(\"Enter breadth of triangle \"))\n",
    "print(\"area of triangle\",0.5*l*br)\n"
   ]
  },
  {
   "cell_type": "code",
   "execution_count": 8,
   "id": "af3751e9",
   "metadata": {},
   "outputs": [
    {
     "name": "stdout",
     "output_type": "stream",
     "text": [
      "Enter 1st number c= 2\n",
      "Enter 2nd number d= 5\n",
      "c= 5\n",
      "d= 2\n"
     ]
    }
   ],
   "source": [
    "4#\n",
    "c=int(input(\"Enter 1st number c= \"))\n",
    "d=int(input(\"Enter 2nd number d= \"))\n",
    "\n",
    "c=c+d\n",
    "d=c-d\n",
    "c=c-d\n",
    "\n",
    "print(\"c=\",c)\n",
    "print(\"d=\",d)\n"
   ]
  },
  {
   "cell_type": "code",
   "execution_count": 22,
   "id": "fdf6b019",
   "metadata": {},
   "outputs": [
    {
     "name": "stdout",
     "output_type": "stream",
     "text": [
      "Enter starting no. 43\n",
      "Enter ending no. 89\n",
      "Random number with the range43 and 89 is\n"
     ]
    },
    {
     "data": {
      "text/plain": [
       "84"
      ]
     },
     "execution_count": 22,
     "metadata": {},
     "output_type": "execute_result"
    }
   ],
   "source": [
    "#5\n",
    "import random\n",
    "e=int(input(\"Enter starting no. \"))\n",
    "f=int(input(\"Enter ending no. \"))\n",
    "print(f\"Random number with the range{e} and {f} is\")\n",
    "random.randint(e,f)"
   ]
  },
  {
   "cell_type": "code",
   "execution_count": null,
   "id": "8373f483",
   "metadata": {},
   "outputs": [],
   "source": []
  }
 ],
 "metadata": {
  "kernelspec": {
   "display_name": "Python 3 (ipykernel)",
   "language": "python",
   "name": "python3"
  },
  "language_info": {
   "codemirror_mode": {
    "name": "ipython",
    "version": 3
   },
   "file_extension": ".py",
   "mimetype": "text/x-python",
   "name": "python",
   "nbconvert_exporter": "python",
   "pygments_lexer": "ipython3",
   "version": "3.9.12"
  }
 },
 "nbformat": 4,
 "nbformat_minor": 5
}
