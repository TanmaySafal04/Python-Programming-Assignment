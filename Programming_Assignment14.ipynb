{
 "cells": [
  {
   "cell_type": "markdown",
   "id": "812aa9a7",
   "metadata": {},
   "source": [
    "Define a class with a generator which can iterate the numbers, which are divisible by\n",
    "7, between a given range 0 and n.\n",
    "\n",
    "Question 2:\n",
    "Write a program to compute the frequency of the words from the input. The output\n",
    "should output after sorting the key alphanumerically.\n",
    "Suppose the following input is supplied to the program:\n",
    "New to Python or choosing between Python 2 and Python 3? Read Python 2 or\n",
    "Python 3.\n",
    "Then, the output should be:\n",
    "2:2\n",
    "3.:1\n",
    "3?:1\n",
    "New:1\n",
    "Python:5\n",
    "Read:1\n",
    "and:1\n",
    "between:1\n",
    "choosing:1\n",
    "or:2\n",
    "to:1\n",
    "\n",
    "Question 3:\n",
    "\n",
    "Define a class Person and its two child classes: Male and Female. All classes have a\n",
    "method &quot;getGender&quot; which can print &quot;Male&quot; for Male class and &quot;Female&quot; for Female\n",
    "class.\n",
    "\n",
    "Question 4:\n",
    "Please write a program to generate all sentences where subject is in [&quot;I&quot;, &quot;You&quot;] and\n",
    "verb is in [&quot;Play&quot;, &quot;Love&quot;] and the object is in [&quot;Hockey&quot;,&quot;Football&quot;].\n",
    "\n",
    "Question 5:\n",
    "Please write a program to compress and decompress the string &quot;hello world!hello\n",
    "world!hello world!hello world!&quot;.\n",
    "\n",
    "Question 6:\n",
    "Please write a binary search function which searches an item in a sorted list. The\n",
    "function should return the index of element to be searched in the list."
   ]
  },
  {
   "cell_type": "markdown",
   "id": "486605e3",
   "metadata": {},
   "source": [
    "# Solutions\n"
   ]
  },
  {
   "cell_type": "markdown",
   "id": "bd7bb48a",
   "metadata": {},
   "source": [
    "Question 1: Define a class with a generator which can iterate the numbers, which are divisible by 7, between a given range 0 and n."
   ]
  },
  {
   "cell_type": "code",
   "execution_count": 8,
   "id": "52b802c2",
   "metadata": {},
   "outputs": [
    {
     "name": "stdout",
     "output_type": "stream",
     "text": [
      "0\n",
      "7\n",
      "14\n",
      "21\n",
      "28\n",
      "35\n",
      "42\n",
      "49\n"
     ]
    }
   ],
   "source": [
    "#1\n",
    "class iterate:\n",
    "    \n",
    "    def __init__(self,n):\n",
    "        self.n=n\n",
    "        \n",
    "    def is_div_7(self):\n",
    "        for i in range(self.n):\n",
    "            if i%7==0:\n",
    "                yield i\n",
    "            else:\n",
    "                pass\n",
    "\n",
    "obj=iterate(50)\n",
    "for i in (obj.is_div_7()):\n",
    "    print(i)\n"
   ]
  },
  {
   "cell_type": "markdown",
   "id": "a9c0e08a",
   "metadata": {},
   "source": [
    "    Question 2: Write a program to compute the frequency of the words from the input. The output should output after sorting the key alphanumerically. Suppose the following input is supplied to the program: New to Python or choosing between Python 2 and Python 3? Read Python 2 or Python 3. Then, the output should be: 2:2 3.:1 3?:1 New:1 Python:5 Read:1 and:1 between:1 choosing:1 or:2 to:1"
   ]
  },
  {
   "cell_type": "markdown",
   "id": "d0eb392b",
   "metadata": {},
   "source": [
    "Question 3:\n",
    "\n",
    "Define a class Person and its two child classes: Male and Female. All classes have a method \"getGender\" which can print \"Male\" for Male class and \"Female\" for Female class.\n"
   ]
  },
  {
   "cell_type": "code",
   "execution_count": 65,
   "id": "6a0db58f",
   "metadata": {},
   "outputs": [
    {
     "name": "stdout",
     "output_type": "stream",
     "text": [
      "Male\n",
      "Female\n"
     ]
    }
   ],
   "source": [
    "#3\n",
    "class Person:\n",
    "    \n",
    "    def __init__(self):\n",
    "        self.gender='M/F'\n",
    "        \n",
    "    def getGender(self):\n",
    "        print(self.gender)\n",
    "    \n",
    "class Male(Person):\n",
    "    \n",
    "    def __init__(self):\n",
    "        self.gender='Male'\n",
    "    \n",
    "class Female(Person):\n",
    "    \n",
    "    def __init__(self):\n",
    "        self.gender='Female'\n",
    "    \n",
    "    \n",
    "objm=Male()\n",
    "objf=Female()\n",
    "\n",
    "objm.getGender() # For Male\n",
    "objf.getGender() # For Female"
   ]
  },
  {
   "cell_type": "markdown",
   "id": "4ead408a",
   "metadata": {},
   "source": [
    "Question 4: Please write a program to generate all sentences where subject is in [\"I\", \"You\"] and verb is in [\"Play\", \"Love\"] and the object is in [\"Hockey\",\"Football\"]"
   ]
  },
  {
   "cell_type": "code",
   "execution_count": 77,
   "id": "6d56ab61",
   "metadata": {},
   "outputs": [
    {
     "name": "stdout",
     "output_type": "stream",
     "text": [
      "\n",
      " I Play Hockey\n",
      "\n",
      " I Play Football\n",
      "\n",
      " I Love Hockey\n",
      "\n",
      " I Love Football\n",
      "\n",
      " You Play Hockey\n",
      "\n",
      " You Play Football\n",
      "\n",
      " You Love Hockey\n",
      "\n",
      " You Love Football\n"
     ]
    }
   ],
   "source": [
    "#4\n",
    "subject=['I','You']\n",
    "verb=['Play','Love']\n",
    "obj=['Hockey','Football']\n",
    "l=[]\n",
    "s=\"\"\n",
    "for i in subject:\n",
    "    for j in verb:\n",
    "        for k in obj:\n",
    "            s=s+i+\" \"+j+\" \"+k\n",
    "            l.append(s)\n",
    "            s=\"\"\n",
    "            \n",
    "for i in l:\n",
    "    print(\"\\n\",i)\n",
    "            \n",
    "            \n",
    "        \n",
    "            \n"
   ]
  },
  {
   "cell_type": "markdown",
   "id": "104b7a1a",
   "metadata": {},
   "source": [
    "Question 5: Please write a program to compress and decompress the string \"hello world!hello world!hello world!hello world!\"."
   ]
  },
  {
   "cell_type": "code",
   "execution_count": 114,
   "id": "8d36a900",
   "metadata": {},
   "outputs": [
    {
     "name": "stdout",
     "output_type": "stream",
     "text": [
      "\n",
      "size of original text 81\n",
      "\n",
      "size of compressed text 56\n",
      "\n",
      "size of decompressed text 81\n",
      "\n",
      "Difference of size=  25\n"
     ]
    }
   ],
   "source": [
    "#5\n",
    "import sys\n",
    "import zlib\n",
    "\n",
    "text=b\"\"\"hello world!hello world!hello world!hello world!\"\"\"\n",
    "\n",
    "text_size=sys.getsizeof(text)\n",
    "print(\"\\nsize of original text\",text_size)\n",
    "\n",
    "\n",
    "compressed = zlib.compress(text)\n",
    "\n",
    "\n",
    "csize=sys.getsizeof(compressed)\n",
    "print(\"\\nsize of compressed text\",csize)\n",
    "\n",
    "\n",
    "decompressed=zlib.decompress(compressed)\n",
    "\n",
    "\n",
    "dsize=sys.getsizeof(decompressed)\n",
    "print(\"\\nsize of decompressed text\",dsize)\n",
    "\n",
    "print(\"\\nDifference of size= \", text_size-csize)"
   ]
  },
  {
   "cell_type": "markdown",
   "id": "929db0ed",
   "metadata": {},
   "source": [
    "Question 6: Please write a binary search function which searches an item in a sorted list. The function should return the index of element to be searched in the list."
   ]
  },
  {
   "cell_type": "code",
   "execution_count": 113,
   "id": "85d45a87",
   "metadata": {},
   "outputs": [
    {
     "name": "stdout",
     "output_type": "stream",
     "text": [
      "Element found at 6\n"
     ]
    }
   ],
   "source": [
    "def bin_search(array,x):\n",
    "    l=0\n",
    "    h=len(array)-1\n",
    "    m=0\n",
    "    \n",
    "    while l<=h:\n",
    "        m=(l+h)//2\n",
    "        \n",
    "        if array[m]<x:\n",
    "            l=m+1\n",
    "            \n",
    "        elif array[m]>x:\n",
    "            h=m-1\n",
    "            \n",
    "        elif array[m]==x:\n",
    "            return m\n",
    "        \n",
    "    return -1\n",
    "    \n",
    "        \n",
    "arr = [ 2, 3, 4, 10, 40 ,56,78,90]\n",
    "x=78\n",
    "value=bin_search(arr,x)\n",
    "\n",
    "if value == -1:\n",
    "    print(\"Element not found\")\n",
    "else:\n",
    "    print(\"Element found at\", str(bin_search(arr,x)))\n",
    "\n",
    "            "
   ]
  }
 ],
 "metadata": {
  "kernelspec": {
   "display_name": "Python 3 (ipykernel)",
   "language": "python",
   "name": "python3"
  },
  "language_info": {
   "codemirror_mode": {
    "name": "ipython",
    "version": 3
   },
   "file_extension": ".py",
   "mimetype": "text/x-python",
   "name": "python",
   "nbconvert_exporter": "python",
   "pygments_lexer": "ipython3",
   "version": "3.9.12"
  }
 },
 "nbformat": 4,
 "nbformat_minor": 5
}
